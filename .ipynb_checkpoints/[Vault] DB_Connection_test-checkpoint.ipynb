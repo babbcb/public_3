{
 "cells": [
  {
   "cell_type": "code",
   "execution_count": 4,
   "id": "eff210fd",
   "metadata": {
    "ExecuteTime": {
     "end_time": "2023-06-13T07:50:15.277009Z",
     "start_time": "2023-06-13T07:50:15.257991Z"
    },
    "pycharm": {
     "is_executing": true
    }
   },
   "outputs": [],
   "source": [
    "import pymysql\n",
    "import psycopg2\n",
    "\n",
    "# DataBaseConfig 불러오기\n",
    "import sys\n",
    "import os\n",
    "sys.path.append(os.path.join(os.getcwd(), '..'))\n",
    "from private_3.lib.DataBaseConfig import DatabaseConfigInfo"
   ]
  },
  {
   "cell_type": "code",
   "execution_count": 5,
   "id": "c6ab65d7",
   "metadata": {
    "ExecuteTime": {
     "end_time": "2023-06-13T07:50:15.987788Z",
     "start_time": "2023-06-13T07:50:15.979975Z"
    }
   },
   "outputs": [
    {
     "data": {
      "text/plain": [
       "'C:\\\\Users\\\\USER\\\\Documents\\\\public_3'"
      ]
     },
     "execution_count": 5,
     "metadata": {},
     "output_type": "execute_result"
    }
   ],
   "source": [
    "os.getcwd()"
   ]
  },
  {
   "cell_type": "markdown",
   "id": "2576d470",
   "metadata": {},
   "source": [
    "# 2. ncp_mysql_cremao_dev"
   ]
  },
  {
   "cell_type": "code",
   "execution_count": 6,
   "id": "a9c4f6ec",
   "metadata": {
    "ExecuteTime": {
     "end_time": "2023-06-13T07:50:17.348356Z",
     "start_time": "2023-06-13T07:50:17.199977Z"
    }
   },
   "outputs": [
    {
     "name": "stdout",
     "output_type": "stream",
     "text": [
      "Vault generated_token -  hvs.CAESIJmx50wEkdALc5fAFwRLf2LGUoGd2cQrV2Lpp1SiW3DhGh4KHGh2cy5QYTR3MENnM21uSVlaRFd2VXp5OHh4YVo\n",
      "{'charset': 'utf8', 'db': 'cremao', 'host': 'db-fqtk1.pub-cdb.ntruss.com', 'password': 'cremao1234!!', 'user': 'cremao'}\n"
     ]
    }
   ],
   "source": [
    "db_config = DatabaseConfigInfo()\n",
    "ncp_mysql_cremao_dev = db_config.get_ncp_mysql_cremao_dev()\n",
    "\n",
    "# NCP DB Connect\n",
    "conn = pymysql.connect(host=ncp_mysql_cremao_dev['host'],\n",
    "                       user=ncp_mysql_cremao_dev['user'],\n",
    "                       password=ncp_mysql_cremao_dev['password'],\n",
    "                       db=ncp_mysql_cremao_dev['db'],\n",
    "                       charset=ncp_mysql_cremao_dev['charset']\n",
    "                       )\n",
    "\n",
    "conn.close()\n",
    "print(ncp_mysql_cremao_dev)"
   ]
  },
  {
   "cell_type": "markdown",
   "id": "74884143",
   "metadata": {},
   "source": [
    "# 3. ncp_mysql_cremao_prod"
   ]
  },
  {
   "cell_type": "code",
   "execution_count": 5,
   "id": "06ff428b",
   "metadata": {
    "ExecuteTime": {
     "end_time": "2023-06-13T02:01:20.455771Z",
     "start_time": "2023-06-13T02:01:20.321969Z"
    }
   },
   "outputs": [
    {
     "ename": "ModuleNotFoundError",
     "evalue": "No module named 'lib.DataBaseConfig'",
     "output_type": "error",
     "traceback": [
      "\u001b[1;31m---------------------------------------------------------------------------\u001b[0m",
      "\u001b[1;31mModuleNotFoundError\u001b[0m                       Traceback (most recent call last)",
      "\u001b[1;32m~\\AppData\\Local\\Temp\\ipykernel_26564\\2651588163.py\u001b[0m in \u001b[0;36m<module>\u001b[1;34m\u001b[0m\n\u001b[0;32m      3\u001b[0m \u001b[1;32mimport\u001b[0m \u001b[0mos\u001b[0m\u001b[1;33m\u001b[0m\u001b[1;33m\u001b[0m\u001b[0m\n\u001b[0;32m      4\u001b[0m \u001b[0msys\u001b[0m\u001b[1;33m.\u001b[0m\u001b[0mpath\u001b[0m\u001b[1;33m.\u001b[0m\u001b[0mappend\u001b[0m\u001b[1;33m(\u001b[0m\u001b[0mos\u001b[0m\u001b[1;33m.\u001b[0m\u001b[0mpath\u001b[0m\u001b[1;33m.\u001b[0m\u001b[0mjoin\u001b[0m\u001b[1;33m(\u001b[0m\u001b[0mos\u001b[0m\u001b[1;33m.\u001b[0m\u001b[0mgetcwd\u001b[0m\u001b[1;33m(\u001b[0m\u001b[1;33m)\u001b[0m\u001b[1;33m,\u001b[0m \u001b[1;34m'..'\u001b[0m\u001b[1;33m)\u001b[0m\u001b[1;33m)\u001b[0m\u001b[1;33m\u001b[0m\u001b[1;33m\u001b[0m\u001b[0m\n\u001b[1;32m----> 5\u001b[1;33m \u001b[1;32mfrom\u001b[0m \u001b[0mlib\u001b[0m\u001b[1;33m.\u001b[0m\u001b[0mDataBaseConfig\u001b[0m \u001b[1;32mimport\u001b[0m \u001b[0mDatabaseConfigInfo\u001b[0m\u001b[1;33m\u001b[0m\u001b[1;33m\u001b[0m\u001b[0m\n\u001b[0m\u001b[0;32m      6\u001b[0m \u001b[1;33m\u001b[0m\u001b[0m\n\u001b[0;32m      7\u001b[0m \u001b[0mdb_config\u001b[0m \u001b[1;33m=\u001b[0m \u001b[0mDatabaseConfigInfo\u001b[0m\u001b[1;33m(\u001b[0m\u001b[1;33m)\u001b[0m\u001b[1;33m\u001b[0m\u001b[1;33m\u001b[0m\u001b[0m\n",
      "\u001b[1;31mModuleNotFoundError\u001b[0m: No module named 'lib.DataBaseConfig'"
     ]
    }
   ],
   "source": [
    "# DataBaseConfig 불러오기\n",
    "import sys\n",
    "import os\n",
    "sys.path.append(os.path.join(os.getcwd(), '..'))\n",
    "from lib.DataBaseConfig import DatabaseConfigInfo\n",
    "\n",
    "db_config = DatabaseConfigInfo()\n",
    "ncp_mysql_cremao_prod = db_config.get_ncp_mysql_cremao_prod()\n",
    "\n",
    "# NCP DB Connect\n",
    "conn = pymysql.connect(host=ncp_mysql_cremao_prod['host'],\n",
    "                       user=ncp_mysql_cremao_prod['user'],\n",
    "                       password=ncp_mysql_cremao_prod['password'],\n",
    "                       db=ncp_mysql_cremao_prod['db'],\n",
    "                       charset=ncp_mysql_cremao_prod['charset']\n",
    "                       )\n",
    "\n",
    "# conn.close()\n",
    "# print(ncp_mysql_cremao_dev)"
   ]
  },
  {
   "cell_type": "markdown",
   "id": "88fa962b",
   "metadata": {},
   "source": [
    "# 4. ncp_mysql_grmn_dev"
   ]
  },
  {
   "cell_type": "code",
   "execution_count": 15,
   "id": "0d9bc351",
   "metadata": {},
   "outputs": [
    {
     "name": "stdout",
     "output_type": "stream",
     "text": [
      "Vault generated_token -  hvs.CAESINnRCuA3lL7jc79iBBrSjM4div3opBMp8Xi_LUGFyGnCGh4KHGh2cy5acjVrRDltOGZ3cjB6bVBpQnVySlJPUXQ\n",
      "{'db': 'grmn', 'host': 'db-egv2e.pub-cdb.ntruss.com', 'password': 'grmn1234!!', 'user': 'grmn'}\n"
     ]
    }
   ],
   "source": [
    "# DataBaseConfig 불러오기\n",
    "import sys\n",
    "import os\n",
    "sys.path.append(os.path.join(os.getcwd(), '..'))\n",
    "from lib.DataBaseConfig import DatabaseConfigInfo\n",
    "\n",
    "db_config = DatabaseConfigInfo()\n",
    "ncp_mysql_grmn_dev = db_config.get_ncp_mysql_grmn_dev()\n",
    "\n",
    "# NCP DB Connect\n",
    "conn = pymysql.connect(host=ncp_mysql_grmn_dev['host'],\n",
    "                       user=ncp_mysql_grmn_dev['user'],\n",
    "                       password=ncp_mysql_grmn_dev['password'],\n",
    "                       db=ncp_mysql_grmn_dev['db']\n",
    "                       )\n",
    "\n",
    "# conn.close()\n",
    "# print(ncp_mysql_cremao_dev)"
   ]
  },
  {
   "cell_type": "markdown",
   "id": "19c83670",
   "metadata": {},
   "source": [
    "# 5. ncp_mysql_grmn_prod"
   ]
  },
  {
   "cell_type": "code",
   "execution_count": 16,
   "id": "f7134521",
   "metadata": {},
   "outputs": [
    {
     "name": "stdout",
     "output_type": "stream",
     "text": [
      "Vault generated_token -  hvs.CAESIE9mUpuGCA5LaSgcMWoyoCVVIw9yE0PZUET7QDdL8ISlGh4KHGh2cy43VEtObW93R1phVFN6bjVaajJ6T0JXb0E\n",
      "{'db': 'grmn', 'host': 'db-eqtk0.pub-cdb.ntruss.com', 'password': 'QgoaWRlod1234!!', 'user': 'grmn'}\n"
     ]
    }
   ],
   "source": [
    "# DataBaseConfig 불러오기\n",
    "import sys\n",
    "import os\n",
    "sys.path.append(os.path.join(os.getcwd(), '..'))\n",
    "from lib.DataBaseConfig import DatabaseConfigInfo\n",
    "\n",
    "db_config = DatabaseConfigInfo()\n",
    "ncp_mysql_grmn_prod = db_config.get_ncp_mysql_grmn_prod()\n",
    "\n",
    "# NCP DB Connect\n",
    "conn = pymysql.connect(host=ncp_mysql_grmn_prod['host'],\n",
    "                       user=ncp_mysql_grmn_prod['user'],\n",
    "                       password=ncp_mysql_grmn_prod['password'],\n",
    "                       db=ncp_mysql_grmn_prod['db']\n",
    "                       )\n",
    "\n",
    "# conn.close()\n",
    "# print(ncp_mysql_cremao_dev)"
   ]
  }
 ],
 "metadata": {
  "kernelspec": {
   "display_name": "Python 3 (ipykernel)",
   "language": "python",
   "name": "python3"
  },
  "language_info": {
   "codemirror_mode": {
    "name": "ipython",
    "version": 3
   },
   "file_extension": ".py",
   "mimetype": "text/x-python",
   "name": "python",
   "nbconvert_exporter": "python",
   "pygments_lexer": "ipython3",
   "version": "3.9.13"
  }
 },
 "nbformat": 4,
 "nbformat_minor": 5
}
