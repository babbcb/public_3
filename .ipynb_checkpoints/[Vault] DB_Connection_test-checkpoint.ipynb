{
 "cells": [
  {
   "cell_type": "code",
   "execution_count": 24,
   "id": "eff210fd",
   "metadata": {
    "ExecuteTime": {
     "end_time": "2023-06-13T01:37:20.972962Z",
     "start_time": "2023-06-13T01:37:20.962849Z"
    },
    "pycharm": {
     "is_executing": true
    }
   },
   "outputs": [],
   "source": [
    "import pymysql\n",
    "import psycopg2\n",
    "\n",
    "# DataBaseConfig 불러오기\n",
    "import sys\n",
    "import os\n",
    "sys.path.append(os.path.join(os.getcwd(), '..'))\n",
    "from private_3.lib.DataBaseConfig import DatabaseConfigInfo"
   ]
  },
  {
   "cell_type": "markdown",
   "id": "2576d470",
   "metadata": {},
   "source": [
    "# 2. ncp_mysql_cremao_dev"
   ]
  },
  {
   "cell_type": "code",
   "execution_count": 26,
   "id": "a9c4f6ec",
   "metadata": {
    "ExecuteTime": {
     "end_time": "2023-06-13T01:38:48.435830Z",
     "start_time": "2023-06-13T01:38:48.402582Z"
    }
   },
   "outputs": [
    {
     "ename": "InvalidRequest",
     "evalue": "invalid role ID, on post http://221.139.50.49:9092/v1/auth/approle/login",
     "output_type": "error",
     "traceback": [
      "\u001b[1;31m---------------------------------------------------------------------------\u001b[0m",
      "\u001b[1;31mInvalidRequest\u001b[0m                            Traceback (most recent call last)",
      "\u001b[1;32m~\\AppData\\Local\\Temp\\ipykernel_26092\\569345382.py\u001b[0m in \u001b[0;36m<module>\u001b[1;34m\u001b[0m\n\u001b[0;32m      1\u001b[0m \u001b[0mdb_config\u001b[0m \u001b[1;33m=\u001b[0m \u001b[0mDatabaseConfigInfo\u001b[0m\u001b[1;33m(\u001b[0m\u001b[1;33m)\u001b[0m\u001b[1;33m\u001b[0m\u001b[1;33m\u001b[0m\u001b[0m\n\u001b[1;32m----> 2\u001b[1;33m \u001b[0mncp_mysql_cremao_dev\u001b[0m \u001b[1;33m=\u001b[0m \u001b[0mdb_config\u001b[0m\u001b[1;33m.\u001b[0m\u001b[0mget_ncp_mysql_cremao_dev\u001b[0m\u001b[1;33m(\u001b[0m\u001b[1;33m)\u001b[0m\u001b[1;33m\u001b[0m\u001b[1;33m\u001b[0m\u001b[0m\n\u001b[0m\u001b[0;32m      3\u001b[0m \u001b[1;33m\u001b[0m\u001b[0m\n\u001b[0;32m      4\u001b[0m \u001b[1;31m# NCP DB Connect\u001b[0m\u001b[1;33m\u001b[0m\u001b[1;33m\u001b[0m\u001b[0m\n\u001b[0;32m      5\u001b[0m conn = pymysql.connect(host=ncp_mysql_cremao_dev['host'],\n",
      "\u001b[1;32m~\\Documents\\public_3\\private_3\\lib\\DataBaseConfig.py\u001b[0m in \u001b[0;36mget_ncp_mysql_cremao_dev\u001b[1;34m(self)\u001b[0m\n\u001b[0;32m     34\u001b[0m         \u001b[0msecret_id\u001b[0m \u001b[1;33m=\u001b[0m \u001b[1;34m'0c948d4f-966d-f423-b666-cc7dfbcb6085'\u001b[0m\u001b[1;33m\u001b[0m\u001b[1;33m\u001b[0m\u001b[0m\n\u001b[0;32m     35\u001b[0m         \u001b[0mdb_credentials_path\u001b[0m \u001b[1;33m=\u001b[0m \u001b[1;34m'ncp_mysql_cremao_dev'\u001b[0m\u001b[1;33m\u001b[0m\u001b[1;33m\u001b[0m\u001b[0m\n\u001b[1;32m---> 36\u001b[1;33m         \u001b[0mgenerated_token\u001b[0m \u001b[1;33m=\u001b[0m \u001b[0mself\u001b[0m\u001b[1;33m.\u001b[0m\u001b[0mlogin_to_vault\u001b[0m\u001b[1;33m(\u001b[0m\u001b[0mrole_id\u001b[0m\u001b[1;33m,\u001b[0m \u001b[0msecret_id\u001b[0m\u001b[1;33m)\u001b[0m\u001b[1;33m\u001b[0m\u001b[1;33m\u001b[0m\u001b[0m\n\u001b[0m\u001b[0;32m     37\u001b[0m         \u001b[0mdb_connection_data\u001b[0m \u001b[1;33m=\u001b[0m \u001b[0mself\u001b[0m\u001b[1;33m.\u001b[0m\u001b[0mget_db_credentials\u001b[0m\u001b[1;33m(\u001b[0m\u001b[0mgenerated_token\u001b[0m\u001b[1;33m,\u001b[0m \u001b[0mdb_credentials_path\u001b[0m\u001b[1;33m)\u001b[0m\u001b[1;33m\u001b[0m\u001b[1;33m\u001b[0m\u001b[0m\n\u001b[0;32m     38\u001b[0m         \u001b[1;32mreturn\u001b[0m \u001b[0mdb_connection_data\u001b[0m\u001b[1;33m\u001b[0m\u001b[1;33m\u001b[0m\u001b[0m\n",
      "\u001b[1;32m~\\Documents\\public_3\\private_3\\lib\\DataBaseConfig.py\u001b[0m in \u001b[0;36mlogin_to_vault\u001b[1;34m(self, role_id, secret_id)\u001b[0m\n\u001b[0;32m     10\u001b[0m     \u001b[1;32mdef\u001b[0m \u001b[0mlogin_to_vault\u001b[0m\u001b[1;33m(\u001b[0m\u001b[0mself\u001b[0m\u001b[1;33m,\u001b[0m \u001b[0mrole_id\u001b[0m\u001b[1;33m,\u001b[0m \u001b[0msecret_id\u001b[0m\u001b[1;33m)\u001b[0m\u001b[1;33m:\u001b[0m\u001b[1;33m\u001b[0m\u001b[1;33m\u001b[0m\u001b[0m\n\u001b[0;32m     11\u001b[0m         \u001b[0mclient\u001b[0m \u001b[1;33m=\u001b[0m \u001b[0mhvac\u001b[0m\u001b[1;33m.\u001b[0m\u001b[0mClient\u001b[0m\u001b[1;33m(\u001b[0m\u001b[0murl\u001b[0m\u001b[1;33m=\u001b[0m\u001b[0mself\u001b[0m\u001b[1;33m.\u001b[0m\u001b[0mvault_url\u001b[0m\u001b[1;33m)\u001b[0m\u001b[1;33m\u001b[0m\u001b[1;33m\u001b[0m\u001b[0m\n\u001b[1;32m---> 12\u001b[1;33m         client.auth.approle.login(role_id=role_id,\n\u001b[0m\u001b[0;32m     13\u001b[0m                                   secret_id=secret_id)\n\u001b[0;32m     14\u001b[0m \u001b[1;33m\u001b[0m\u001b[0m\n",
      "\u001b[1;32m~\\anaconda3\\lib\\site-packages\\hvac\\api\\auth_methods\\approle.py\u001b[0m in \u001b[0;36mlogin\u001b[1;34m(self, role_id, secret_id, use_token, mount_point)\u001b[0m\n\u001b[0;32m    504\u001b[0m             \u001b[1;34m\"/v1/auth/{mount_point}/login\"\u001b[0m\u001b[1;33m,\u001b[0m \u001b[0mmount_point\u001b[0m\u001b[1;33m=\u001b[0m\u001b[0mmount_point\u001b[0m\u001b[1;33m\u001b[0m\u001b[1;33m\u001b[0m\u001b[0m\n\u001b[0;32m    505\u001b[0m         )\n\u001b[1;32m--> 506\u001b[1;33m         return self._adapter.login(\n\u001b[0m\u001b[0;32m    507\u001b[0m             \u001b[0murl\u001b[0m\u001b[1;33m=\u001b[0m\u001b[0mapi_path\u001b[0m\u001b[1;33m,\u001b[0m\u001b[1;33m\u001b[0m\u001b[1;33m\u001b[0m\u001b[0m\n\u001b[0;32m    508\u001b[0m             \u001b[0muse_token\u001b[0m\u001b[1;33m=\u001b[0m\u001b[0muse_token\u001b[0m\u001b[1;33m,\u001b[0m\u001b[1;33m\u001b[0m\u001b[1;33m\u001b[0m\u001b[0m\n",
      "\u001b[1;32m~\\anaconda3\\lib\\site-packages\\hvac\\adapters.py\u001b[0m in \u001b[0;36mlogin\u001b[1;34m(self, url, use_token, **kwargs)\u001b[0m\n\u001b[0;32m    192\u001b[0m         \u001b[1;33m:\u001b[0m\u001b[0mrtype\u001b[0m\u001b[1;33m:\u001b[0m \u001b[0mrequests\u001b[0m\u001b[1;33m.\u001b[0m\u001b[0mResponse\u001b[0m\u001b[1;33m\u001b[0m\u001b[1;33m\u001b[0m\u001b[0m\n\u001b[0;32m    193\u001b[0m         \"\"\"\n\u001b[1;32m--> 194\u001b[1;33m         \u001b[0mresponse\u001b[0m \u001b[1;33m=\u001b[0m \u001b[0mself\u001b[0m\u001b[1;33m.\u001b[0m\u001b[0mpost\u001b[0m\u001b[1;33m(\u001b[0m\u001b[0murl\u001b[0m\u001b[1;33m,\u001b[0m \u001b[1;33m**\u001b[0m\u001b[0mkwargs\u001b[0m\u001b[1;33m)\u001b[0m\u001b[1;33m\u001b[0m\u001b[1;33m\u001b[0m\u001b[0m\n\u001b[0m\u001b[0;32m    195\u001b[0m \u001b[1;33m\u001b[0m\u001b[0m\n\u001b[0;32m    196\u001b[0m         \u001b[1;32mif\u001b[0m \u001b[0muse_token\u001b[0m\u001b[1;33m:\u001b[0m\u001b[1;33m\u001b[0m\u001b[1;33m\u001b[0m\u001b[0m\n",
      "\u001b[1;32m~\\anaconda3\\lib\\site-packages\\hvac\\adapters.py\u001b[0m in \u001b[0;36mpost\u001b[1;34m(self, url, **kwargs)\u001b[0m\n\u001b[0;32m    121\u001b[0m         \u001b[1;33m:\u001b[0m\u001b[0mrtype\u001b[0m\u001b[1;33m:\u001b[0m \u001b[0mrequests\u001b[0m\u001b[1;33m.\u001b[0m\u001b[0mResponse\u001b[0m\u001b[1;33m\u001b[0m\u001b[1;33m\u001b[0m\u001b[0m\n\u001b[0;32m    122\u001b[0m         \"\"\"\n\u001b[1;32m--> 123\u001b[1;33m         \u001b[1;32mreturn\u001b[0m \u001b[0mself\u001b[0m\u001b[1;33m.\u001b[0m\u001b[0mrequest\u001b[0m\u001b[1;33m(\u001b[0m\u001b[1;34m\"post\"\u001b[0m\u001b[1;33m,\u001b[0m \u001b[0murl\u001b[0m\u001b[1;33m,\u001b[0m \u001b[1;33m**\u001b[0m\u001b[0mkwargs\u001b[0m\u001b[1;33m)\u001b[0m\u001b[1;33m\u001b[0m\u001b[1;33m\u001b[0m\u001b[0m\n\u001b[0m\u001b[0;32m    124\u001b[0m \u001b[1;33m\u001b[0m\u001b[0m\n\u001b[0;32m    125\u001b[0m     \u001b[1;32mdef\u001b[0m \u001b[0mput\u001b[0m\u001b[1;33m(\u001b[0m\u001b[0mself\u001b[0m\u001b[1;33m,\u001b[0m \u001b[0murl\u001b[0m\u001b[1;33m,\u001b[0m \u001b[1;33m**\u001b[0m\u001b[0mkwargs\u001b[0m\u001b[1;33m)\u001b[0m\u001b[1;33m:\u001b[0m\u001b[1;33m\u001b[0m\u001b[1;33m\u001b[0m\u001b[0m\n",
      "\u001b[1;32m~\\anaconda3\\lib\\site-packages\\hvac\\adapters.py\u001b[0m in \u001b[0;36mrequest\u001b[1;34m(self, *args, **kwargs)\u001b[0m\n\u001b[0;32m    370\u001b[0m         \u001b[1;33m:\u001b[0m\u001b[0mrtype\u001b[0m\u001b[1;33m:\u001b[0m \u001b[0mdict\u001b[0m \u001b[1;33m|\u001b[0m \u001b[0mrequests\u001b[0m\u001b[1;33m.\u001b[0m\u001b[0mResponse\u001b[0m\u001b[1;33m\u001b[0m\u001b[1;33m\u001b[0m\u001b[0m\n\u001b[0;32m    371\u001b[0m         \"\"\"\n\u001b[1;32m--> 372\u001b[1;33m         \u001b[0mresponse\u001b[0m \u001b[1;33m=\u001b[0m \u001b[0msuper\u001b[0m\u001b[1;33m(\u001b[0m\u001b[1;33m)\u001b[0m\u001b[1;33m.\u001b[0m\u001b[0mrequest\u001b[0m\u001b[1;33m(\u001b[0m\u001b[1;33m*\u001b[0m\u001b[0margs\u001b[0m\u001b[1;33m,\u001b[0m \u001b[1;33m**\u001b[0m\u001b[0mkwargs\u001b[0m\u001b[1;33m)\u001b[0m\u001b[1;33m\u001b[0m\u001b[1;33m\u001b[0m\u001b[0m\n\u001b[0m\u001b[0;32m    373\u001b[0m         \u001b[1;32mif\u001b[0m \u001b[0mresponse\u001b[0m\u001b[1;33m.\u001b[0m\u001b[0mstatus_code\u001b[0m \u001b[1;33m==\u001b[0m \u001b[1;36m200\u001b[0m\u001b[1;33m:\u001b[0m\u001b[1;33m\u001b[0m\u001b[1;33m\u001b[0m\u001b[0m\n\u001b[0;32m    374\u001b[0m             \u001b[1;32mtry\u001b[0m\u001b[1;33m:\u001b[0m\u001b[1;33m\u001b[0m\u001b[1;33m\u001b[0m\u001b[0m\n",
      "\u001b[1;32m~\\anaconda3\\lib\\site-packages\\hvac\\adapters.py\u001b[0m in \u001b[0;36mrequest\u001b[1;34m(self, method, url, headers, raise_exception, **kwargs)\u001b[0m\n\u001b[0;32m    338\u001b[0m \u001b[1;33m\u001b[0m\u001b[0m\n\u001b[0;32m    339\u001b[0m         \u001b[1;32mif\u001b[0m \u001b[1;32mnot\u001b[0m \u001b[0mresponse\u001b[0m\u001b[1;33m.\u001b[0m\u001b[0mok\u001b[0m \u001b[1;32mand\u001b[0m \u001b[1;33m(\u001b[0m\u001b[0mraise_exception\u001b[0m \u001b[1;32mand\u001b[0m \u001b[1;32mnot\u001b[0m \u001b[0mself\u001b[0m\u001b[1;33m.\u001b[0m\u001b[0mignore_exceptions\u001b[0m\u001b[1;33m)\u001b[0m\u001b[1;33m:\u001b[0m\u001b[1;33m\u001b[0m\u001b[1;33m\u001b[0m\u001b[0m\n\u001b[1;32m--> 340\u001b[1;33m             \u001b[0mself\u001b[0m\u001b[1;33m.\u001b[0m\u001b[0m_raise_for_error\u001b[0m\u001b[1;33m(\u001b[0m\u001b[0mmethod\u001b[0m\u001b[1;33m,\u001b[0m \u001b[0murl\u001b[0m\u001b[1;33m,\u001b[0m \u001b[0mresponse\u001b[0m\u001b[1;33m)\u001b[0m\u001b[1;33m\u001b[0m\u001b[1;33m\u001b[0m\u001b[0m\n\u001b[0m\u001b[0;32m    341\u001b[0m \u001b[1;33m\u001b[0m\u001b[0m\n\u001b[0;32m    342\u001b[0m         \u001b[1;32mreturn\u001b[0m \u001b[0mresponse\u001b[0m\u001b[1;33m\u001b[0m\u001b[1;33m\u001b[0m\u001b[0m\n",
      "\u001b[1;32m~\\anaconda3\\lib\\site-packages\\hvac\\adapters.py\u001b[0m in \u001b[0;36m_raise_for_error\u001b[1;34m(self, method, url, response)\u001b[0m\n\u001b[0;32m    256\u001b[0m             \u001b[0mmsg\u001b[0m \u001b[1;33m=\u001b[0m \u001b[0mtext\u001b[0m\u001b[1;33m\u001b[0m\u001b[1;33m\u001b[0m\u001b[0m\n\u001b[0;32m    257\u001b[0m \u001b[1;33m\u001b[0m\u001b[0m\n\u001b[1;32m--> 258\u001b[1;33m         utils.raise_for_error(\n\u001b[0m\u001b[0;32m    259\u001b[0m             \u001b[0mmethod\u001b[0m\u001b[1;33m,\u001b[0m\u001b[1;33m\u001b[0m\u001b[1;33m\u001b[0m\u001b[0m\n\u001b[0;32m    260\u001b[0m             \u001b[0murl\u001b[0m\u001b[1;33m,\u001b[0m\u001b[1;33m\u001b[0m\u001b[1;33m\u001b[0m\u001b[0m\n",
      "\u001b[1;32m~\\anaconda3\\lib\\site-packages\\hvac\\utils.py\u001b[0m in \u001b[0;36mraise_for_error\u001b[1;34m(method, url, status_code, message, errors, text, json)\u001b[0m\n\u001b[0;32m     39\u001b[0m \u001b[1;33m\u001b[0m\u001b[0m\n\u001b[0;32m     40\u001b[0m     \"\"\"\n\u001b[1;32m---> 41\u001b[1;33m     raise exceptions.VaultError.from_status(\n\u001b[0m\u001b[0;32m     42\u001b[0m         \u001b[0mstatus_code\u001b[0m\u001b[1;33m,\u001b[0m\u001b[1;33m\u001b[0m\u001b[1;33m\u001b[0m\u001b[0m\n\u001b[0;32m     43\u001b[0m         \u001b[0mmessage\u001b[0m\u001b[1;33m,\u001b[0m\u001b[1;33m\u001b[0m\u001b[1;33m\u001b[0m\u001b[0m\n",
      "\u001b[1;31mInvalidRequest\u001b[0m: invalid role ID, on post http://221.139.50.49:9092/v1/auth/approle/login"
     ]
    }
   ],
   "source": [
    "db_config = DatabaseConfigInfo()\n",
    "ncp_mysql_cremao_dev = db_config.get_ncp_mysql_cremao_dev()\n",
    "\n",
    "# NCP DB Connect\n",
    "conn = pymysql.connect(host=ncp_mysql_cremao_dev['host'],\n",
    "                       user=ncp_mysql_cremao_dev['user'],\n",
    "                       password=ncp_mysql_cremao_dev['password'],\n",
    "                       db=ncp_mysql_cremao_dev['db'],\n",
    "                       charset=ncp_mysql_cremao_dev['charset']\n",
    "                       )\n",
    "\n",
    "conn.close()\n",
    "print(ncp_mysql_cremao_dev)"
   ]
  },
  {
   "cell_type": "markdown",
   "id": "74884143",
   "metadata": {},
   "source": [
    "# 3. ncp_mysql_cremao_prod"
   ]
  },
  {
   "cell_type": "code",
   "execution_count": 21,
   "id": "06ff428b",
   "metadata": {},
   "outputs": [
    {
     "name": "stdout",
     "output_type": "stream",
     "text": [
      "Vault generated_token -  hvs.CAESIP6p4fygALiia_uxUvjP8IMWdMsnRiBrtCFDxhFNUHhbGh4KHGh2cy5BRlIwZjhSa1ByVnRoWm1pRnFDanY3ZmQ\n",
      "{'charset': 'utf8', 'db': 'cremao', 'host': 'db-fqtk1.pub-cdb.ntruss.com', 'password': 'cremao1234!!', 'user': 'cremao'}\n"
     ]
    }
   ],
   "source": [
    "# DataBaseConfig 불러오기\n",
    "import sys\n",
    "import os\n",
    "sys.path.append(os.path.join(os.getcwd(), '..'))\n",
    "from lib.DataBaseConfig import DatabaseConfigInfo\n",
    "\n",
    "db_config = DatabaseConfigInfo()\n",
    "ncp_mysql_cremao_prod = db_config.get_ncp_mysql_cremao_prod()\n",
    "\n",
    "# NCP DB Connect\n",
    "conn = pymysql.connect(host=ncp_mysql_cremao_prod['host'],\n",
    "                       user=ncp_mysql_cremao_prod['user'],\n",
    "                       password=ncp_mysql_cremao_prod['password'],\n",
    "                       db=ncp_mysql_cremao_prod['db'],\n",
    "                       charset=ncp_mysql_cremao_prod['charset']\n",
    "                       )\n",
    "\n",
    "# conn.close()\n",
    "# print(ncp_mysql_cremao_dev)"
   ]
  },
  {
   "cell_type": "markdown",
   "id": "88fa962b",
   "metadata": {},
   "source": [
    "# 4. ncp_mysql_grmn_dev"
   ]
  },
  {
   "cell_type": "code",
   "execution_count": 15,
   "id": "0d9bc351",
   "metadata": {},
   "outputs": [
    {
     "name": "stdout",
     "output_type": "stream",
     "text": [
      "Vault generated_token -  hvs.CAESINnRCuA3lL7jc79iBBrSjM4div3opBMp8Xi_LUGFyGnCGh4KHGh2cy5acjVrRDltOGZ3cjB6bVBpQnVySlJPUXQ\n",
      "{'db': 'grmn', 'host': 'db-egv2e.pub-cdb.ntruss.com', 'password': 'grmn1234!!', 'user': 'grmn'}\n"
     ]
    }
   ],
   "source": [
    "# DataBaseConfig 불러오기\n",
    "import sys\n",
    "import os\n",
    "sys.path.append(os.path.join(os.getcwd(), '..'))\n",
    "from lib.DataBaseConfig import DatabaseConfigInfo\n",
    "\n",
    "db_config = DatabaseConfigInfo()\n",
    "ncp_mysql_grmn_dev = db_config.get_ncp_mysql_grmn_dev()\n",
    "\n",
    "# NCP DB Connect\n",
    "conn = pymysql.connect(host=ncp_mysql_grmn_dev['host'],\n",
    "                       user=ncp_mysql_grmn_dev['user'],\n",
    "                       password=ncp_mysql_grmn_dev['password'],\n",
    "                       db=ncp_mysql_grmn_dev['db']\n",
    "                       )\n",
    "\n",
    "# conn.close()\n",
    "# print(ncp_mysql_cremao_dev)"
   ]
  },
  {
   "cell_type": "markdown",
   "id": "19c83670",
   "metadata": {},
   "source": [
    "# 5. ncp_mysql_grmn_prod"
   ]
  },
  {
   "cell_type": "code",
   "execution_count": 16,
   "id": "f7134521",
   "metadata": {},
   "outputs": [
    {
     "name": "stdout",
     "output_type": "stream",
     "text": [
      "Vault generated_token -  hvs.CAESIE9mUpuGCA5LaSgcMWoyoCVVIw9yE0PZUET7QDdL8ISlGh4KHGh2cy43VEtObW93R1phVFN6bjVaajJ6T0JXb0E\n",
      "{'db': 'grmn', 'host': 'db-eqtk0.pub-cdb.ntruss.com', 'password': 'QgoaWRlod1234!!', 'user': 'grmn'}\n"
     ]
    }
   ],
   "source": [
    "# DataBaseConfig 불러오기\n",
    "import sys\n",
    "import os\n",
    "sys.path.append(os.path.join(os.getcwd(), '..'))\n",
    "from lib.DataBaseConfig import DatabaseConfigInfo\n",
    "\n",
    "db_config = DatabaseConfigInfo()\n",
    "ncp_mysql_grmn_prod = db_config.get_ncp_mysql_grmn_prod()\n",
    "\n",
    "# NCP DB Connect\n",
    "conn = pymysql.connect(host=ncp_mysql_grmn_prod['host'],\n",
    "                       user=ncp_mysql_grmn_prod['user'],\n",
    "                       password=ncp_mysql_grmn_prod['password'],\n",
    "                       db=ncp_mysql_grmn_prod['db']\n",
    "                       )\n",
    "\n",
    "# conn.close()\n",
    "# print(ncp_mysql_cremao_dev)"
   ]
  }
 ],
 "metadata": {
  "kernelspec": {
   "display_name": "Python 3 (ipykernel)",
   "language": "python",
   "name": "python3"
  },
  "language_info": {
   "codemirror_mode": {
    "name": "ipython",
    "version": 3
   },
   "file_extension": ".py",
   "mimetype": "text/x-python",
   "name": "python",
   "nbconvert_exporter": "python",
   "pygments_lexer": "ipython3",
   "version": "3.9.13"
  }
 },
 "nbformat": 4,
 "nbformat_minor": 5
}
