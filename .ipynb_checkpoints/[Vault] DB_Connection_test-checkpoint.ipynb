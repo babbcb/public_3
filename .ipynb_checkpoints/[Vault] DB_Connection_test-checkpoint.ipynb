{
 "cells": [
  {
   "cell_type": "code",
   "execution_count": 5,
   "id": "eff210fd",
   "metadata": {
    "ExecuteTime": {
     "end_time": "2023-06-14T05:19:07.781234Z",
     "start_time": "2023-06-14T05:19:07.764200Z"
    },
    "pycharm": {
     "is_executing": true
    }
   },
   "outputs": [],
   "source": [
    "import pymysql\n",
    "import psycopg2\n",
    "import hvac\n",
    "\n",
    "# DataBaseConfig 불러오기\n",
    "import sys\n",
    "import os\n",
    "sys.path.append(os.path.join(os.getcwd(), '..'))\n",
    "from private_3.lib.DataBaseConfig import DatabaseConfigInfo"
   ]
  },
  {
   "cell_type": "code",
   "execution_count": 2,
   "id": "c6ab65d7",
   "metadata": {
    "ExecuteTime": {
     "end_time": "2023-06-14T05:18:07.743709Z",
     "start_time": "2023-06-14T05:18:07.729700Z"
    }
   },
   "outputs": [
    {
     "data": {
      "text/plain": [
       "'C:\\\\Users\\\\USER\\\\Documents\\\\public_3'"
      ]
     },
     "execution_count": 2,
     "metadata": {},
     "output_type": "execute_result"
    }
   ],
   "source": [
    "os.getcwd()"
   ]
  },
  {
   "cell_type": "markdown",
   "id": "2576d470",
   "metadata": {},
   "source": [
    "# 2. ncp_mysql_cremao_dev"
   ]
  },
  {
   "cell_type": "code",
   "execution_count": 23,
   "id": "a9c4f6ec",
   "metadata": {
    "ExecuteTime": {
     "end_time": "2023-06-14T05:24:02.403073Z",
     "start_time": "2023-06-14T05:24:02.361489Z"
    }
   },
   "outputs": [
    {
     "name": "stdout",
     "output_type": "stream",
     "text": [
      "dir_path :  C:\\Users\\USER\\Documents\\public_3\\private_3\\lib\n",
      "file_path :  C:\\Users\\USER\\Documents\\public_3\\private_3\\lib\\secret_id_ncp_mysql_cremao_dev.txt\n",
      "secret_id :  0f374ed8-b163-2a5e-9ac4-a49311c45b37\n"
     ]
    },
    {
     "ename": "Forbidden",
     "evalue": "permission denied, on post http://221.139.50.49:9092/v1/auth/approle/login",
     "output_type": "error",
     "traceback": [
      "\u001b[1;31m---------------------------------------------------------------------------\u001b[0m",
      "\u001b[1;31mForbidden\u001b[0m                                 Traceback (most recent call last)",
      "\u001b[1;32m~\\AppData\\Local\\Temp\\ipykernel_1540\\569345382.py\u001b[0m in \u001b[0;36m<module>\u001b[1;34m\u001b[0m\n\u001b[0;32m      1\u001b[0m \u001b[0mdb_config\u001b[0m \u001b[1;33m=\u001b[0m \u001b[0mDatabaseConfigInfo\u001b[0m\u001b[1;33m(\u001b[0m\u001b[1;33m)\u001b[0m\u001b[1;33m\u001b[0m\u001b[1;33m\u001b[0m\u001b[0m\n\u001b[1;32m----> 2\u001b[1;33m \u001b[0mncp_mysql_cremao_dev\u001b[0m \u001b[1;33m=\u001b[0m \u001b[0mdb_config\u001b[0m\u001b[1;33m.\u001b[0m\u001b[0mget_ncp_mysql_cremao_dev\u001b[0m\u001b[1;33m(\u001b[0m\u001b[1;33m)\u001b[0m\u001b[1;33m\u001b[0m\u001b[1;33m\u001b[0m\u001b[0m\n\u001b[0m\u001b[0;32m      3\u001b[0m \u001b[1;33m\u001b[0m\u001b[0m\n\u001b[0;32m      4\u001b[0m \u001b[1;31m# NCP DB Connect\u001b[0m\u001b[1;33m\u001b[0m\u001b[1;33m\u001b[0m\u001b[0m\n\u001b[0;32m      5\u001b[0m conn = pymysql.connect(host=ncp_mysql_cremao_dev['host'],\n",
      "\u001b[1;32m~\\Documents\\public_3\\private_3\\lib\\DataBaseConfig.py\u001b[0m in \u001b[0;36mget_ncp_mysql_cremao_dev\u001b[1;34m(self)\u001b[0m\n\u001b[0;32m     45\u001b[0m \u001b[1;33m\u001b[0m\u001b[0m\n\u001b[0;32m     46\u001b[0m         \u001b[0mdb_credentials_path\u001b[0m \u001b[1;33m=\u001b[0m \u001b[1;34m'ncp_mysql_cremao_dev'\u001b[0m\u001b[1;33m\u001b[0m\u001b[1;33m\u001b[0m\u001b[0m\n\u001b[1;32m---> 47\u001b[1;33m         \u001b[0mgenerated_token\u001b[0m \u001b[1;33m=\u001b[0m \u001b[0mself\u001b[0m\u001b[1;33m.\u001b[0m\u001b[0mlogin_to_vault\u001b[0m\u001b[1;33m(\u001b[0m\u001b[0mrole_id\u001b[0m\u001b[1;33m,\u001b[0m \u001b[0msecret_id\u001b[0m\u001b[1;33m)\u001b[0m\u001b[1;33m\u001b[0m\u001b[1;33m\u001b[0m\u001b[0m\n\u001b[0m\u001b[0;32m     48\u001b[0m         \u001b[0mdb_connection_data\u001b[0m \u001b[1;33m=\u001b[0m \u001b[0mself\u001b[0m\u001b[1;33m.\u001b[0m\u001b[0mget_db_credentials\u001b[0m\u001b[1;33m(\u001b[0m\u001b[0mgenerated_token\u001b[0m\u001b[1;33m,\u001b[0m \u001b[0mdb_credentials_path\u001b[0m\u001b[1;33m)\u001b[0m\u001b[1;33m\u001b[0m\u001b[1;33m\u001b[0m\u001b[0m\n\u001b[0;32m     49\u001b[0m         \u001b[1;32mreturn\u001b[0m \u001b[0mdb_connection_data\u001b[0m\u001b[1;33m\u001b[0m\u001b[1;33m\u001b[0m\u001b[0m\n",
      "\u001b[1;32m~\\Documents\\public_3\\private_3\\lib\\DataBaseConfig.py\u001b[0m in \u001b[0;36mlogin_to_vault\u001b[1;34m(self, role_id, secret_id)\u001b[0m\n\u001b[0;32m     11\u001b[0m     \u001b[1;32mdef\u001b[0m \u001b[0mlogin_to_vault\u001b[0m\u001b[1;33m(\u001b[0m\u001b[0mself\u001b[0m\u001b[1;33m,\u001b[0m \u001b[0mrole_id\u001b[0m\u001b[1;33m,\u001b[0m \u001b[0msecret_id\u001b[0m\u001b[1;33m)\u001b[0m\u001b[1;33m:\u001b[0m\u001b[1;33m\u001b[0m\u001b[1;33m\u001b[0m\u001b[0m\n\u001b[0;32m     12\u001b[0m         \u001b[0mclient\u001b[0m \u001b[1;33m=\u001b[0m \u001b[0mhvac\u001b[0m\u001b[1;33m.\u001b[0m\u001b[0mClient\u001b[0m\u001b[1;33m(\u001b[0m\u001b[0murl\u001b[0m\u001b[1;33m=\u001b[0m\u001b[0mself\u001b[0m\u001b[1;33m.\u001b[0m\u001b[0mvault_url\u001b[0m\u001b[1;33m)\u001b[0m\u001b[1;33m\u001b[0m\u001b[1;33m\u001b[0m\u001b[0m\n\u001b[1;32m---> 13\u001b[1;33m         client.auth.approle.login(role_id=role_id,\n\u001b[0m\u001b[0;32m     14\u001b[0m                                   secret_id=secret_id)\n\u001b[0;32m     15\u001b[0m \u001b[1;33m\u001b[0m\u001b[0m\n",
      "\u001b[1;32m~\\anaconda3\\lib\\site-packages\\hvac\\api\\auth_methods\\approle.py\u001b[0m in \u001b[0;36mlogin\u001b[1;34m(self, role_id, secret_id, use_token, mount_point)\u001b[0m\n\u001b[0;32m    504\u001b[0m             \u001b[1;34m\"/v1/auth/{mount_point}/login\"\u001b[0m\u001b[1;33m,\u001b[0m \u001b[0mmount_point\u001b[0m\u001b[1;33m=\u001b[0m\u001b[0mmount_point\u001b[0m\u001b[1;33m\u001b[0m\u001b[1;33m\u001b[0m\u001b[0m\n\u001b[0;32m    505\u001b[0m         )\n\u001b[1;32m--> 506\u001b[1;33m         return self._adapter.login(\n\u001b[0m\u001b[0;32m    507\u001b[0m             \u001b[0murl\u001b[0m\u001b[1;33m=\u001b[0m\u001b[0mapi_path\u001b[0m\u001b[1;33m,\u001b[0m\u001b[1;33m\u001b[0m\u001b[1;33m\u001b[0m\u001b[0m\n\u001b[0;32m    508\u001b[0m             \u001b[0muse_token\u001b[0m\u001b[1;33m=\u001b[0m\u001b[0muse_token\u001b[0m\u001b[1;33m,\u001b[0m\u001b[1;33m\u001b[0m\u001b[1;33m\u001b[0m\u001b[0m\n",
      "\u001b[1;32m~\\anaconda3\\lib\\site-packages\\hvac\\adapters.py\u001b[0m in \u001b[0;36mlogin\u001b[1;34m(self, url, use_token, **kwargs)\u001b[0m\n\u001b[0;32m    192\u001b[0m         \u001b[1;33m:\u001b[0m\u001b[0mrtype\u001b[0m\u001b[1;33m:\u001b[0m \u001b[0mrequests\u001b[0m\u001b[1;33m.\u001b[0m\u001b[0mResponse\u001b[0m\u001b[1;33m\u001b[0m\u001b[1;33m\u001b[0m\u001b[0m\n\u001b[0;32m    193\u001b[0m         \"\"\"\n\u001b[1;32m--> 194\u001b[1;33m         \u001b[0mresponse\u001b[0m \u001b[1;33m=\u001b[0m \u001b[0mself\u001b[0m\u001b[1;33m.\u001b[0m\u001b[0mpost\u001b[0m\u001b[1;33m(\u001b[0m\u001b[0murl\u001b[0m\u001b[1;33m,\u001b[0m \u001b[1;33m**\u001b[0m\u001b[0mkwargs\u001b[0m\u001b[1;33m)\u001b[0m\u001b[1;33m\u001b[0m\u001b[1;33m\u001b[0m\u001b[0m\n\u001b[0m\u001b[0;32m    195\u001b[0m \u001b[1;33m\u001b[0m\u001b[0m\n\u001b[0;32m    196\u001b[0m         \u001b[1;32mif\u001b[0m \u001b[0muse_token\u001b[0m\u001b[1;33m:\u001b[0m\u001b[1;33m\u001b[0m\u001b[1;33m\u001b[0m\u001b[0m\n",
      "\u001b[1;32m~\\anaconda3\\lib\\site-packages\\hvac\\adapters.py\u001b[0m in \u001b[0;36mpost\u001b[1;34m(self, url, **kwargs)\u001b[0m\n\u001b[0;32m    121\u001b[0m         \u001b[1;33m:\u001b[0m\u001b[0mrtype\u001b[0m\u001b[1;33m:\u001b[0m \u001b[0mrequests\u001b[0m\u001b[1;33m.\u001b[0m\u001b[0mResponse\u001b[0m\u001b[1;33m\u001b[0m\u001b[1;33m\u001b[0m\u001b[0m\n\u001b[0;32m    122\u001b[0m         \"\"\"\n\u001b[1;32m--> 123\u001b[1;33m         \u001b[1;32mreturn\u001b[0m \u001b[0mself\u001b[0m\u001b[1;33m.\u001b[0m\u001b[0mrequest\u001b[0m\u001b[1;33m(\u001b[0m\u001b[1;34m\"post\"\u001b[0m\u001b[1;33m,\u001b[0m \u001b[0murl\u001b[0m\u001b[1;33m,\u001b[0m \u001b[1;33m**\u001b[0m\u001b[0mkwargs\u001b[0m\u001b[1;33m)\u001b[0m\u001b[1;33m\u001b[0m\u001b[1;33m\u001b[0m\u001b[0m\n\u001b[0m\u001b[0;32m    124\u001b[0m \u001b[1;33m\u001b[0m\u001b[0m\n\u001b[0;32m    125\u001b[0m     \u001b[1;32mdef\u001b[0m \u001b[0mput\u001b[0m\u001b[1;33m(\u001b[0m\u001b[0mself\u001b[0m\u001b[1;33m,\u001b[0m \u001b[0murl\u001b[0m\u001b[1;33m,\u001b[0m \u001b[1;33m**\u001b[0m\u001b[0mkwargs\u001b[0m\u001b[1;33m)\u001b[0m\u001b[1;33m:\u001b[0m\u001b[1;33m\u001b[0m\u001b[1;33m\u001b[0m\u001b[0m\n",
      "\u001b[1;32m~\\anaconda3\\lib\\site-packages\\hvac\\adapters.py\u001b[0m in \u001b[0;36mrequest\u001b[1;34m(self, *args, **kwargs)\u001b[0m\n\u001b[0;32m    370\u001b[0m         \u001b[1;33m:\u001b[0m\u001b[0mrtype\u001b[0m\u001b[1;33m:\u001b[0m \u001b[0mdict\u001b[0m \u001b[1;33m|\u001b[0m \u001b[0mrequests\u001b[0m\u001b[1;33m.\u001b[0m\u001b[0mResponse\u001b[0m\u001b[1;33m\u001b[0m\u001b[1;33m\u001b[0m\u001b[0m\n\u001b[0;32m    371\u001b[0m         \"\"\"\n\u001b[1;32m--> 372\u001b[1;33m         \u001b[0mresponse\u001b[0m \u001b[1;33m=\u001b[0m \u001b[0msuper\u001b[0m\u001b[1;33m(\u001b[0m\u001b[1;33m)\u001b[0m\u001b[1;33m.\u001b[0m\u001b[0mrequest\u001b[0m\u001b[1;33m(\u001b[0m\u001b[1;33m*\u001b[0m\u001b[0margs\u001b[0m\u001b[1;33m,\u001b[0m \u001b[1;33m**\u001b[0m\u001b[0mkwargs\u001b[0m\u001b[1;33m)\u001b[0m\u001b[1;33m\u001b[0m\u001b[1;33m\u001b[0m\u001b[0m\n\u001b[0m\u001b[0;32m    373\u001b[0m         \u001b[1;32mif\u001b[0m \u001b[0mresponse\u001b[0m\u001b[1;33m.\u001b[0m\u001b[0mstatus_code\u001b[0m \u001b[1;33m==\u001b[0m \u001b[1;36m200\u001b[0m\u001b[1;33m:\u001b[0m\u001b[1;33m\u001b[0m\u001b[1;33m\u001b[0m\u001b[0m\n\u001b[0;32m    374\u001b[0m             \u001b[1;32mtry\u001b[0m\u001b[1;33m:\u001b[0m\u001b[1;33m\u001b[0m\u001b[1;33m\u001b[0m\u001b[0m\n",
      "\u001b[1;32m~\\anaconda3\\lib\\site-packages\\hvac\\adapters.py\u001b[0m in \u001b[0;36mrequest\u001b[1;34m(self, method, url, headers, raise_exception, **kwargs)\u001b[0m\n\u001b[0;32m    338\u001b[0m \u001b[1;33m\u001b[0m\u001b[0m\n\u001b[0;32m    339\u001b[0m         \u001b[1;32mif\u001b[0m \u001b[1;32mnot\u001b[0m \u001b[0mresponse\u001b[0m\u001b[1;33m.\u001b[0m\u001b[0mok\u001b[0m \u001b[1;32mand\u001b[0m \u001b[1;33m(\u001b[0m\u001b[0mraise_exception\u001b[0m \u001b[1;32mand\u001b[0m \u001b[1;32mnot\u001b[0m \u001b[0mself\u001b[0m\u001b[1;33m.\u001b[0m\u001b[0mignore_exceptions\u001b[0m\u001b[1;33m)\u001b[0m\u001b[1;33m:\u001b[0m\u001b[1;33m\u001b[0m\u001b[1;33m\u001b[0m\u001b[0m\n\u001b[1;32m--> 340\u001b[1;33m             \u001b[0mself\u001b[0m\u001b[1;33m.\u001b[0m\u001b[0m_raise_for_error\u001b[0m\u001b[1;33m(\u001b[0m\u001b[0mmethod\u001b[0m\u001b[1;33m,\u001b[0m \u001b[0murl\u001b[0m\u001b[1;33m,\u001b[0m \u001b[0mresponse\u001b[0m\u001b[1;33m)\u001b[0m\u001b[1;33m\u001b[0m\u001b[1;33m\u001b[0m\u001b[0m\n\u001b[0m\u001b[0;32m    341\u001b[0m \u001b[1;33m\u001b[0m\u001b[0m\n\u001b[0;32m    342\u001b[0m         \u001b[1;32mreturn\u001b[0m \u001b[0mresponse\u001b[0m\u001b[1;33m\u001b[0m\u001b[1;33m\u001b[0m\u001b[0m\n",
      "\u001b[1;32m~\\anaconda3\\lib\\site-packages\\hvac\\adapters.py\u001b[0m in \u001b[0;36m_raise_for_error\u001b[1;34m(self, method, url, response)\u001b[0m\n\u001b[0;32m    256\u001b[0m             \u001b[0mmsg\u001b[0m \u001b[1;33m=\u001b[0m \u001b[0mtext\u001b[0m\u001b[1;33m\u001b[0m\u001b[1;33m\u001b[0m\u001b[0m\n\u001b[0;32m    257\u001b[0m \u001b[1;33m\u001b[0m\u001b[0m\n\u001b[1;32m--> 258\u001b[1;33m         utils.raise_for_error(\n\u001b[0m\u001b[0;32m    259\u001b[0m             \u001b[0mmethod\u001b[0m\u001b[1;33m,\u001b[0m\u001b[1;33m\u001b[0m\u001b[1;33m\u001b[0m\u001b[0m\n\u001b[0;32m    260\u001b[0m             \u001b[0murl\u001b[0m\u001b[1;33m,\u001b[0m\u001b[1;33m\u001b[0m\u001b[1;33m\u001b[0m\u001b[0m\n",
      "\u001b[1;32m~\\anaconda3\\lib\\site-packages\\hvac\\utils.py\u001b[0m in \u001b[0;36mraise_for_error\u001b[1;34m(method, url, status_code, message, errors, text, json)\u001b[0m\n\u001b[0;32m     39\u001b[0m \u001b[1;33m\u001b[0m\u001b[0m\n\u001b[0;32m     40\u001b[0m     \"\"\"\n\u001b[1;32m---> 41\u001b[1;33m     raise exceptions.VaultError.from_status(\n\u001b[0m\u001b[0;32m     42\u001b[0m         \u001b[0mstatus_code\u001b[0m\u001b[1;33m,\u001b[0m\u001b[1;33m\u001b[0m\u001b[1;33m\u001b[0m\u001b[0m\n\u001b[0;32m     43\u001b[0m         \u001b[0mmessage\u001b[0m\u001b[1;33m,\u001b[0m\u001b[1;33m\u001b[0m\u001b[1;33m\u001b[0m\u001b[0m\n",
      "\u001b[1;31mForbidden\u001b[0m: permission denied, on post http://221.139.50.49:9092/v1/auth/approle/login"
     ]
    }
   ],
   "source": [
    "db_config = DatabaseConfigInfo()\n",
    "ncp_mysql_cremao_dev = db_config.get_ncp_mysql_cremao_dev()\n",
    "\n",
    "# NCP DB Connect\n",
    "conn = pymysql.connect(host=ncp_mysql_cremao_dev['host'],\n",
    "                       user=ncp_mysql_cremao_dev['user'],\n",
    "                       password=ncp_mysql_cremao_dev['password'],\n",
    "                       db=ncp_mysql_cremao_dev['db'],\n",
    "                       charset=ncp_mysql_cremao_dev['charset']\n",
    "                       )\n",
    "\n",
    "conn.close()\n",
    "print(ncp_mysql_cremao_dev)"
   ]
  },
  {
   "cell_type": "code",
   "execution_count": null,
   "id": "6e579a1f",
   "metadata": {},
   "outputs": [],
   "source": []
  },
  {
   "cell_type": "code",
   "execution_count": 32,
   "id": "71440f5a",
   "metadata": {
    "ExecuteTime": {
     "end_time": "2023-06-14T05:27:17.403080Z",
     "start_time": "2023-06-14T05:27:17.381904Z"
    }
   },
   "outputs": [
    {
     "name": "stdout",
     "output_type": "stream",
     "text": [
      "{'request_id': 'c4985196-f807-8cf0-9ae2-1ebf0903155c', 'lease_id': '', 'renewable': False, 'lease_duration': 0, 'data': {'secret_id': 'd17cfc76-f349-1328-6456-117fb3f8a4ac', 'secret_id_accessor': '0d61629d-d283-ec53-8458-57cd12db9078', 'secret_id_num_uses': 0, 'secret_id_ttl': 1814400}, 'wrap_info': None, 'warnings': None, 'auth': None}\n"
     ]
    }
   ],
   "source": [
    "# Create a new client with the given token\n",
    "client = hvac.Client(url='http://221.139.50.49:9092', token='hvs.CAESIF8Gx2Sr5pYP7RQC3kYJLm88enHXwGzKkaFHHdrw96ulGh4KHGh2cy5lU3RwRlptdjBnWjU0UVFOYnBFQVNPOEs')\n",
    "\n",
    "# Generate a new secret id for the role\n",
    "secret_id = client.auth.approle.generate_secret_id(role_name='ncp_mysql_cremao_dev_read')\n",
    "\n",
    "# Print the secret id\n",
    "print(secret_id)\n"
   ]
  },
  {
   "cell_type": "code",
   "execution_count": 33,
   "id": "0e997fbb",
   "metadata": {
    "ExecuteTime": {
     "end_time": "2023-06-14T05:27:17.794036Z",
     "start_time": "2023-06-14T05:27:17.789508Z"
    }
   },
   "outputs": [
    {
     "name": "stdout",
     "output_type": "stream",
     "text": [
      "d17cfc76-f349-1328-6456-117fb3f8a4ac\n",
      "0d61629d-d283-ec53-8458-57cd12db9078\n"
     ]
    }
   ],
   "source": [
    "new_secret_id = secret_id['data']['secret_id']\n",
    "print(new_secret_id)\n",
    "\n",
    "new_secret_id_accessor = secret_id['data']['secret_id_accessor']\n",
    "print(new_secret_id_accessor)"
   ]
  },
  {
   "cell_type": "code",
   "execution_count": 34,
   "id": "66e878af",
   "metadata": {
    "ExecuteTime": {
     "end_time": "2023-06-14T05:27:18.204581Z",
     "start_time": "2023-06-14T05:27:18.197431Z"
    }
   },
   "outputs": [],
   "source": [
    "with open('./private_3/lib/secret_id_ncp_mysql_cremao_dev.txt', 'w') as f:\n",
    "    f.write(new_secret_id)\n",
    "    \n",
    "with open('./private_3/lib/secret_id_accessor_ncp_mysql_cremao_dev.txt', 'w') as f:\n",
    "    f.write(new_secret_id_accessor)"
   ]
  },
  {
   "cell_type": "code",
   "execution_count": 35,
   "id": "cbafed3a",
   "metadata": {
    "ExecuteTime": {
     "end_time": "2023-06-14T05:27:19.020808Z",
     "start_time": "2023-06-14T05:27:18.979842Z"
    }
   },
   "outputs": [
    {
     "ename": "Forbidden",
     "evalue": "permission denied, on post http://221.139.50.49:9092/v1/auth/approle/login",
     "output_type": "error",
     "traceback": [
      "\u001b[1;31m---------------------------------------------------------------------------\u001b[0m",
      "\u001b[1;31mForbidden\u001b[0m                                 Traceback (most recent call last)",
      "\u001b[1;32m~\\AppData\\Local\\Temp\\ipykernel_1540\\3873055094.py\u001b[0m in \u001b[0;36m<module>\u001b[1;34m\u001b[0m\n\u001b[0;32m      1\u001b[0m \u001b[0mclient\u001b[0m \u001b[1;33m=\u001b[0m \u001b[0mhvac\u001b[0m\u001b[1;33m.\u001b[0m\u001b[0mClient\u001b[0m\u001b[1;33m(\u001b[0m\u001b[0murl\u001b[0m\u001b[1;33m=\u001b[0m\u001b[1;34m'http://221.139.50.49:9092'\u001b[0m\u001b[1;33m)\u001b[0m\u001b[1;33m\u001b[0m\u001b[1;33m\u001b[0m\u001b[0m\n\u001b[1;32m----> 2\u001b[1;33m client.auth.approle.login(role_id='796d67d0-44d1-8b6f-db85-054e3ec6c4c8',\n\u001b[0m\u001b[0;32m      3\u001b[0m                           secret_id='0f374ed8-b163-2a5e-9ac4-a49311c45b37')\n\u001b[0;32m      4\u001b[0m \u001b[1;33m\u001b[0m\u001b[0m\n\u001b[0;32m      5\u001b[0m \u001b[1;32mif\u001b[0m \u001b[0mclient\u001b[0m\u001b[1;33m.\u001b[0m\u001b[0mis_authenticated\u001b[0m\u001b[1;33m(\u001b[0m\u001b[1;33m)\u001b[0m\u001b[1;33m:\u001b[0m\u001b[1;33m\u001b[0m\u001b[1;33m\u001b[0m\u001b[0m\n",
      "\u001b[1;32m~\\anaconda3\\lib\\site-packages\\hvac\\api\\auth_methods\\approle.py\u001b[0m in \u001b[0;36mlogin\u001b[1;34m(self, role_id, secret_id, use_token, mount_point)\u001b[0m\n\u001b[0;32m    504\u001b[0m             \u001b[1;34m\"/v1/auth/{mount_point}/login\"\u001b[0m\u001b[1;33m,\u001b[0m \u001b[0mmount_point\u001b[0m\u001b[1;33m=\u001b[0m\u001b[0mmount_point\u001b[0m\u001b[1;33m\u001b[0m\u001b[1;33m\u001b[0m\u001b[0m\n\u001b[0;32m    505\u001b[0m         )\n\u001b[1;32m--> 506\u001b[1;33m         return self._adapter.login(\n\u001b[0m\u001b[0;32m    507\u001b[0m             \u001b[0murl\u001b[0m\u001b[1;33m=\u001b[0m\u001b[0mapi_path\u001b[0m\u001b[1;33m,\u001b[0m\u001b[1;33m\u001b[0m\u001b[1;33m\u001b[0m\u001b[0m\n\u001b[0;32m    508\u001b[0m             \u001b[0muse_token\u001b[0m\u001b[1;33m=\u001b[0m\u001b[0muse_token\u001b[0m\u001b[1;33m,\u001b[0m\u001b[1;33m\u001b[0m\u001b[1;33m\u001b[0m\u001b[0m\n",
      "\u001b[1;32m~\\anaconda3\\lib\\site-packages\\hvac\\adapters.py\u001b[0m in \u001b[0;36mlogin\u001b[1;34m(self, url, use_token, **kwargs)\u001b[0m\n\u001b[0;32m    192\u001b[0m         \u001b[1;33m:\u001b[0m\u001b[0mrtype\u001b[0m\u001b[1;33m:\u001b[0m \u001b[0mrequests\u001b[0m\u001b[1;33m.\u001b[0m\u001b[0mResponse\u001b[0m\u001b[1;33m\u001b[0m\u001b[1;33m\u001b[0m\u001b[0m\n\u001b[0;32m    193\u001b[0m         \"\"\"\n\u001b[1;32m--> 194\u001b[1;33m         \u001b[0mresponse\u001b[0m \u001b[1;33m=\u001b[0m \u001b[0mself\u001b[0m\u001b[1;33m.\u001b[0m\u001b[0mpost\u001b[0m\u001b[1;33m(\u001b[0m\u001b[0murl\u001b[0m\u001b[1;33m,\u001b[0m \u001b[1;33m**\u001b[0m\u001b[0mkwargs\u001b[0m\u001b[1;33m)\u001b[0m\u001b[1;33m\u001b[0m\u001b[1;33m\u001b[0m\u001b[0m\n\u001b[0m\u001b[0;32m    195\u001b[0m \u001b[1;33m\u001b[0m\u001b[0m\n\u001b[0;32m    196\u001b[0m         \u001b[1;32mif\u001b[0m \u001b[0muse_token\u001b[0m\u001b[1;33m:\u001b[0m\u001b[1;33m\u001b[0m\u001b[1;33m\u001b[0m\u001b[0m\n",
      "\u001b[1;32m~\\anaconda3\\lib\\site-packages\\hvac\\adapters.py\u001b[0m in \u001b[0;36mpost\u001b[1;34m(self, url, **kwargs)\u001b[0m\n\u001b[0;32m    121\u001b[0m         \u001b[1;33m:\u001b[0m\u001b[0mrtype\u001b[0m\u001b[1;33m:\u001b[0m \u001b[0mrequests\u001b[0m\u001b[1;33m.\u001b[0m\u001b[0mResponse\u001b[0m\u001b[1;33m\u001b[0m\u001b[1;33m\u001b[0m\u001b[0m\n\u001b[0;32m    122\u001b[0m         \"\"\"\n\u001b[1;32m--> 123\u001b[1;33m         \u001b[1;32mreturn\u001b[0m \u001b[0mself\u001b[0m\u001b[1;33m.\u001b[0m\u001b[0mrequest\u001b[0m\u001b[1;33m(\u001b[0m\u001b[1;34m\"post\"\u001b[0m\u001b[1;33m,\u001b[0m \u001b[0murl\u001b[0m\u001b[1;33m,\u001b[0m \u001b[1;33m**\u001b[0m\u001b[0mkwargs\u001b[0m\u001b[1;33m)\u001b[0m\u001b[1;33m\u001b[0m\u001b[1;33m\u001b[0m\u001b[0m\n\u001b[0m\u001b[0;32m    124\u001b[0m \u001b[1;33m\u001b[0m\u001b[0m\n\u001b[0;32m    125\u001b[0m     \u001b[1;32mdef\u001b[0m \u001b[0mput\u001b[0m\u001b[1;33m(\u001b[0m\u001b[0mself\u001b[0m\u001b[1;33m,\u001b[0m \u001b[0murl\u001b[0m\u001b[1;33m,\u001b[0m \u001b[1;33m**\u001b[0m\u001b[0mkwargs\u001b[0m\u001b[1;33m)\u001b[0m\u001b[1;33m:\u001b[0m\u001b[1;33m\u001b[0m\u001b[1;33m\u001b[0m\u001b[0m\n",
      "\u001b[1;32m~\\anaconda3\\lib\\site-packages\\hvac\\adapters.py\u001b[0m in \u001b[0;36mrequest\u001b[1;34m(self, *args, **kwargs)\u001b[0m\n\u001b[0;32m    370\u001b[0m         \u001b[1;33m:\u001b[0m\u001b[0mrtype\u001b[0m\u001b[1;33m:\u001b[0m \u001b[0mdict\u001b[0m \u001b[1;33m|\u001b[0m \u001b[0mrequests\u001b[0m\u001b[1;33m.\u001b[0m\u001b[0mResponse\u001b[0m\u001b[1;33m\u001b[0m\u001b[1;33m\u001b[0m\u001b[0m\n\u001b[0;32m    371\u001b[0m         \"\"\"\n\u001b[1;32m--> 372\u001b[1;33m         \u001b[0mresponse\u001b[0m \u001b[1;33m=\u001b[0m \u001b[0msuper\u001b[0m\u001b[1;33m(\u001b[0m\u001b[1;33m)\u001b[0m\u001b[1;33m.\u001b[0m\u001b[0mrequest\u001b[0m\u001b[1;33m(\u001b[0m\u001b[1;33m*\u001b[0m\u001b[0margs\u001b[0m\u001b[1;33m,\u001b[0m \u001b[1;33m**\u001b[0m\u001b[0mkwargs\u001b[0m\u001b[1;33m)\u001b[0m\u001b[1;33m\u001b[0m\u001b[1;33m\u001b[0m\u001b[0m\n\u001b[0m\u001b[0;32m    373\u001b[0m         \u001b[1;32mif\u001b[0m \u001b[0mresponse\u001b[0m\u001b[1;33m.\u001b[0m\u001b[0mstatus_code\u001b[0m \u001b[1;33m==\u001b[0m \u001b[1;36m200\u001b[0m\u001b[1;33m:\u001b[0m\u001b[1;33m\u001b[0m\u001b[1;33m\u001b[0m\u001b[0m\n\u001b[0;32m    374\u001b[0m             \u001b[1;32mtry\u001b[0m\u001b[1;33m:\u001b[0m\u001b[1;33m\u001b[0m\u001b[1;33m\u001b[0m\u001b[0m\n",
      "\u001b[1;32m~\\anaconda3\\lib\\site-packages\\hvac\\adapters.py\u001b[0m in \u001b[0;36mrequest\u001b[1;34m(self, method, url, headers, raise_exception, **kwargs)\u001b[0m\n\u001b[0;32m    338\u001b[0m \u001b[1;33m\u001b[0m\u001b[0m\n\u001b[0;32m    339\u001b[0m         \u001b[1;32mif\u001b[0m \u001b[1;32mnot\u001b[0m \u001b[0mresponse\u001b[0m\u001b[1;33m.\u001b[0m\u001b[0mok\u001b[0m \u001b[1;32mand\u001b[0m \u001b[1;33m(\u001b[0m\u001b[0mraise_exception\u001b[0m \u001b[1;32mand\u001b[0m \u001b[1;32mnot\u001b[0m \u001b[0mself\u001b[0m\u001b[1;33m.\u001b[0m\u001b[0mignore_exceptions\u001b[0m\u001b[1;33m)\u001b[0m\u001b[1;33m:\u001b[0m\u001b[1;33m\u001b[0m\u001b[1;33m\u001b[0m\u001b[0m\n\u001b[1;32m--> 340\u001b[1;33m             \u001b[0mself\u001b[0m\u001b[1;33m.\u001b[0m\u001b[0m_raise_for_error\u001b[0m\u001b[1;33m(\u001b[0m\u001b[0mmethod\u001b[0m\u001b[1;33m,\u001b[0m \u001b[0murl\u001b[0m\u001b[1;33m,\u001b[0m \u001b[0mresponse\u001b[0m\u001b[1;33m)\u001b[0m\u001b[1;33m\u001b[0m\u001b[1;33m\u001b[0m\u001b[0m\n\u001b[0m\u001b[0;32m    341\u001b[0m \u001b[1;33m\u001b[0m\u001b[0m\n\u001b[0;32m    342\u001b[0m         \u001b[1;32mreturn\u001b[0m \u001b[0mresponse\u001b[0m\u001b[1;33m\u001b[0m\u001b[1;33m\u001b[0m\u001b[0m\n",
      "\u001b[1;32m~\\anaconda3\\lib\\site-packages\\hvac\\adapters.py\u001b[0m in \u001b[0;36m_raise_for_error\u001b[1;34m(self, method, url, response)\u001b[0m\n\u001b[0;32m    256\u001b[0m             \u001b[0mmsg\u001b[0m \u001b[1;33m=\u001b[0m \u001b[0mtext\u001b[0m\u001b[1;33m\u001b[0m\u001b[1;33m\u001b[0m\u001b[0m\n\u001b[0;32m    257\u001b[0m \u001b[1;33m\u001b[0m\u001b[0m\n\u001b[1;32m--> 258\u001b[1;33m         utils.raise_for_error(\n\u001b[0m\u001b[0;32m    259\u001b[0m             \u001b[0mmethod\u001b[0m\u001b[1;33m,\u001b[0m\u001b[1;33m\u001b[0m\u001b[1;33m\u001b[0m\u001b[0m\n\u001b[0;32m    260\u001b[0m             \u001b[0murl\u001b[0m\u001b[1;33m,\u001b[0m\u001b[1;33m\u001b[0m\u001b[1;33m\u001b[0m\u001b[0m\n",
      "\u001b[1;32m~\\anaconda3\\lib\\site-packages\\hvac\\utils.py\u001b[0m in \u001b[0;36mraise_for_error\u001b[1;34m(method, url, status_code, message, errors, text, json)\u001b[0m\n\u001b[0;32m     39\u001b[0m \u001b[1;33m\u001b[0m\u001b[0m\n\u001b[0;32m     40\u001b[0m     \"\"\"\n\u001b[1;32m---> 41\u001b[1;33m     raise exceptions.VaultError.from_status(\n\u001b[0m\u001b[0;32m     42\u001b[0m         \u001b[0mstatus_code\u001b[0m\u001b[1;33m,\u001b[0m\u001b[1;33m\u001b[0m\u001b[1;33m\u001b[0m\u001b[0m\n\u001b[0;32m     43\u001b[0m         \u001b[0mmessage\u001b[0m\u001b[1;33m,\u001b[0m\u001b[1;33m\u001b[0m\u001b[1;33m\u001b[0m\u001b[0m\n",
      "\u001b[1;31mForbidden\u001b[0m: permission denied, on post http://221.139.50.49:9092/v1/auth/approle/login"
     ]
    }
   ],
   "source": [
    "client = hvac.Client(url='http://221.139.50.49:9092')\n",
    "client.auth.approle.login(role_id='796d67d0-44d1-8b6f-db85-054e3ec6c4c8',\n",
    "                          secret_id='0f374ed8-b163-2a5e-9ac4-a49311c45b37')\n",
    "\n",
    "if client.is_authenticated():\n",
    "    generated_token = client.token\n",
    "    print('Vault generated_token - ', generated_token)\n",
    "else:\n",
    "    print(\"Vault에 접속하지 못했습니다. Role-ID와 Secret-ID가 유효한지 확인해주세요.\")\n"
   ]
  },
  {
   "cell_type": "code",
   "execution_count": 36,
   "id": "b19c3788",
   "metadata": {
    "ExecuteTime": {
     "end_time": "2023-06-14T05:27:19.446002Z",
     "start_time": "2023-06-14T05:27:19.417377Z"
    }
   },
   "outputs": [
    {
     "name": "stdout",
     "output_type": "stream",
     "text": [
      "--------------------------------------------------\n",
      "b''\n",
      "<Response [204]>\n"
     ]
    }
   ],
   "source": [
    "import requests\n",
    "\n",
    "headers = {\n",
    "    'X-Vault-Token': 'hvs.CAESIF8Gx2Sr5pYP7RQC3kYJLm88enHXwGzKkaFHHdrw96ulGh4KHGh2cy5lU3RwRlptdjBnWjU0UVFOYnBFQVNPOEs',\n",
    "}\n",
    "\n",
    "with open('./private_3/lib/secret_id_accessor_ncp_mysql_cremao_dev.txt', 'r') as f:\n",
    "    secret_id_accessor = f.read().strip()\n",
    "\n",
    "data = {\n",
    "  'secret_id_accessor': secret_id_accessor\n",
    "}\n",
    "\n",
    "response = requests.post('http://221.139.50.49:9092/v1/auth/approle/role/ncp_mysql_cremao_dev_read/secret-id-accessor/destroy', headers=headers, json=data)\n",
    "\n",
    "print('-'*50)\n",
    "print(response.content)\n",
    "print(response)"
   ]
  },
  {
   "cell_type": "code",
   "execution_count": 37,
   "id": "4e5d562b",
   "metadata": {
    "ExecuteTime": {
     "end_time": "2023-06-14T05:27:19.868537Z",
     "start_time": "2023-06-14T05:27:19.799236Z"
    }
   },
   "outputs": [
    {
     "ename": "Forbidden",
     "evalue": "permission denied, on post http://221.139.50.49:9092/v1/auth/approle/login",
     "output_type": "error",
     "traceback": [
      "\u001b[1;31m---------------------------------------------------------------------------\u001b[0m",
      "\u001b[1;31mForbidden\u001b[0m                                 Traceback (most recent call last)",
      "\u001b[1;32m~\\AppData\\Local\\Temp\\ipykernel_1540\\3634194063.py\u001b[0m in \u001b[0;36m<module>\u001b[1;34m\u001b[0m\n\u001b[0;32m      3\u001b[0m \u001b[1;33m\u001b[0m\u001b[0m\n\u001b[0;32m      4\u001b[0m \u001b[0mclient\u001b[0m \u001b[1;33m=\u001b[0m \u001b[0mhvac\u001b[0m\u001b[1;33m.\u001b[0m\u001b[0mClient\u001b[0m\u001b[1;33m(\u001b[0m\u001b[0murl\u001b[0m\u001b[1;33m=\u001b[0m\u001b[1;34m'http://221.139.50.49:9092'\u001b[0m\u001b[1;33m)\u001b[0m\u001b[1;33m\u001b[0m\u001b[1;33m\u001b[0m\u001b[0m\n\u001b[1;32m----> 5\u001b[1;33m client.auth.approle.login(role_id='796d67d0-44d1-8b6f-db85-054e3ec6c4c8',\n\u001b[0m\u001b[0;32m      6\u001b[0m                           secret_id=secret_id)\n\u001b[0;32m      7\u001b[0m \u001b[1;33m\u001b[0m\u001b[0m\n",
      "\u001b[1;32m~\\anaconda3\\lib\\site-packages\\hvac\\api\\auth_methods\\approle.py\u001b[0m in \u001b[0;36mlogin\u001b[1;34m(self, role_id, secret_id, use_token, mount_point)\u001b[0m\n\u001b[0;32m    504\u001b[0m             \u001b[1;34m\"/v1/auth/{mount_point}/login\"\u001b[0m\u001b[1;33m,\u001b[0m \u001b[0mmount_point\u001b[0m\u001b[1;33m=\u001b[0m\u001b[0mmount_point\u001b[0m\u001b[1;33m\u001b[0m\u001b[1;33m\u001b[0m\u001b[0m\n\u001b[0;32m    505\u001b[0m         )\n\u001b[1;32m--> 506\u001b[1;33m         return self._adapter.login(\n\u001b[0m\u001b[0;32m    507\u001b[0m             \u001b[0murl\u001b[0m\u001b[1;33m=\u001b[0m\u001b[0mapi_path\u001b[0m\u001b[1;33m,\u001b[0m\u001b[1;33m\u001b[0m\u001b[1;33m\u001b[0m\u001b[0m\n\u001b[0;32m    508\u001b[0m             \u001b[0muse_token\u001b[0m\u001b[1;33m=\u001b[0m\u001b[0muse_token\u001b[0m\u001b[1;33m,\u001b[0m\u001b[1;33m\u001b[0m\u001b[1;33m\u001b[0m\u001b[0m\n",
      "\u001b[1;32m~\\anaconda3\\lib\\site-packages\\hvac\\adapters.py\u001b[0m in \u001b[0;36mlogin\u001b[1;34m(self, url, use_token, **kwargs)\u001b[0m\n\u001b[0;32m    192\u001b[0m         \u001b[1;33m:\u001b[0m\u001b[0mrtype\u001b[0m\u001b[1;33m:\u001b[0m \u001b[0mrequests\u001b[0m\u001b[1;33m.\u001b[0m\u001b[0mResponse\u001b[0m\u001b[1;33m\u001b[0m\u001b[1;33m\u001b[0m\u001b[0m\n\u001b[0;32m    193\u001b[0m         \"\"\"\n\u001b[1;32m--> 194\u001b[1;33m         \u001b[0mresponse\u001b[0m \u001b[1;33m=\u001b[0m \u001b[0mself\u001b[0m\u001b[1;33m.\u001b[0m\u001b[0mpost\u001b[0m\u001b[1;33m(\u001b[0m\u001b[0murl\u001b[0m\u001b[1;33m,\u001b[0m \u001b[1;33m**\u001b[0m\u001b[0mkwargs\u001b[0m\u001b[1;33m)\u001b[0m\u001b[1;33m\u001b[0m\u001b[1;33m\u001b[0m\u001b[0m\n\u001b[0m\u001b[0;32m    195\u001b[0m \u001b[1;33m\u001b[0m\u001b[0m\n\u001b[0;32m    196\u001b[0m         \u001b[1;32mif\u001b[0m \u001b[0muse_token\u001b[0m\u001b[1;33m:\u001b[0m\u001b[1;33m\u001b[0m\u001b[1;33m\u001b[0m\u001b[0m\n",
      "\u001b[1;32m~\\anaconda3\\lib\\site-packages\\hvac\\adapters.py\u001b[0m in \u001b[0;36mpost\u001b[1;34m(self, url, **kwargs)\u001b[0m\n\u001b[0;32m    121\u001b[0m         \u001b[1;33m:\u001b[0m\u001b[0mrtype\u001b[0m\u001b[1;33m:\u001b[0m \u001b[0mrequests\u001b[0m\u001b[1;33m.\u001b[0m\u001b[0mResponse\u001b[0m\u001b[1;33m\u001b[0m\u001b[1;33m\u001b[0m\u001b[0m\n\u001b[0;32m    122\u001b[0m         \"\"\"\n\u001b[1;32m--> 123\u001b[1;33m         \u001b[1;32mreturn\u001b[0m \u001b[0mself\u001b[0m\u001b[1;33m.\u001b[0m\u001b[0mrequest\u001b[0m\u001b[1;33m(\u001b[0m\u001b[1;34m\"post\"\u001b[0m\u001b[1;33m,\u001b[0m \u001b[0murl\u001b[0m\u001b[1;33m,\u001b[0m \u001b[1;33m**\u001b[0m\u001b[0mkwargs\u001b[0m\u001b[1;33m)\u001b[0m\u001b[1;33m\u001b[0m\u001b[1;33m\u001b[0m\u001b[0m\n\u001b[0m\u001b[0;32m    124\u001b[0m \u001b[1;33m\u001b[0m\u001b[0m\n\u001b[0;32m    125\u001b[0m     \u001b[1;32mdef\u001b[0m \u001b[0mput\u001b[0m\u001b[1;33m(\u001b[0m\u001b[0mself\u001b[0m\u001b[1;33m,\u001b[0m \u001b[0murl\u001b[0m\u001b[1;33m,\u001b[0m \u001b[1;33m**\u001b[0m\u001b[0mkwargs\u001b[0m\u001b[1;33m)\u001b[0m\u001b[1;33m:\u001b[0m\u001b[1;33m\u001b[0m\u001b[1;33m\u001b[0m\u001b[0m\n",
      "\u001b[1;32m~\\anaconda3\\lib\\site-packages\\hvac\\adapters.py\u001b[0m in \u001b[0;36mrequest\u001b[1;34m(self, *args, **kwargs)\u001b[0m\n\u001b[0;32m    370\u001b[0m         \u001b[1;33m:\u001b[0m\u001b[0mrtype\u001b[0m\u001b[1;33m:\u001b[0m \u001b[0mdict\u001b[0m \u001b[1;33m|\u001b[0m \u001b[0mrequests\u001b[0m\u001b[1;33m.\u001b[0m\u001b[0mResponse\u001b[0m\u001b[1;33m\u001b[0m\u001b[1;33m\u001b[0m\u001b[0m\n\u001b[0;32m    371\u001b[0m         \"\"\"\n\u001b[1;32m--> 372\u001b[1;33m         \u001b[0mresponse\u001b[0m \u001b[1;33m=\u001b[0m \u001b[0msuper\u001b[0m\u001b[1;33m(\u001b[0m\u001b[1;33m)\u001b[0m\u001b[1;33m.\u001b[0m\u001b[0mrequest\u001b[0m\u001b[1;33m(\u001b[0m\u001b[1;33m*\u001b[0m\u001b[0margs\u001b[0m\u001b[1;33m,\u001b[0m \u001b[1;33m**\u001b[0m\u001b[0mkwargs\u001b[0m\u001b[1;33m)\u001b[0m\u001b[1;33m\u001b[0m\u001b[1;33m\u001b[0m\u001b[0m\n\u001b[0m\u001b[0;32m    373\u001b[0m         \u001b[1;32mif\u001b[0m \u001b[0mresponse\u001b[0m\u001b[1;33m.\u001b[0m\u001b[0mstatus_code\u001b[0m \u001b[1;33m==\u001b[0m \u001b[1;36m200\u001b[0m\u001b[1;33m:\u001b[0m\u001b[1;33m\u001b[0m\u001b[1;33m\u001b[0m\u001b[0m\n\u001b[0;32m    374\u001b[0m             \u001b[1;32mtry\u001b[0m\u001b[1;33m:\u001b[0m\u001b[1;33m\u001b[0m\u001b[1;33m\u001b[0m\u001b[0m\n",
      "\u001b[1;32m~\\anaconda3\\lib\\site-packages\\hvac\\adapters.py\u001b[0m in \u001b[0;36mrequest\u001b[1;34m(self, method, url, headers, raise_exception, **kwargs)\u001b[0m\n\u001b[0;32m    338\u001b[0m \u001b[1;33m\u001b[0m\u001b[0m\n\u001b[0;32m    339\u001b[0m         \u001b[1;32mif\u001b[0m \u001b[1;32mnot\u001b[0m \u001b[0mresponse\u001b[0m\u001b[1;33m.\u001b[0m\u001b[0mok\u001b[0m \u001b[1;32mand\u001b[0m \u001b[1;33m(\u001b[0m\u001b[0mraise_exception\u001b[0m \u001b[1;32mand\u001b[0m \u001b[1;32mnot\u001b[0m \u001b[0mself\u001b[0m\u001b[1;33m.\u001b[0m\u001b[0mignore_exceptions\u001b[0m\u001b[1;33m)\u001b[0m\u001b[1;33m:\u001b[0m\u001b[1;33m\u001b[0m\u001b[1;33m\u001b[0m\u001b[0m\n\u001b[1;32m--> 340\u001b[1;33m             \u001b[0mself\u001b[0m\u001b[1;33m.\u001b[0m\u001b[0m_raise_for_error\u001b[0m\u001b[1;33m(\u001b[0m\u001b[0mmethod\u001b[0m\u001b[1;33m,\u001b[0m \u001b[0murl\u001b[0m\u001b[1;33m,\u001b[0m \u001b[0mresponse\u001b[0m\u001b[1;33m)\u001b[0m\u001b[1;33m\u001b[0m\u001b[1;33m\u001b[0m\u001b[0m\n\u001b[0m\u001b[0;32m    341\u001b[0m \u001b[1;33m\u001b[0m\u001b[0m\n\u001b[0;32m    342\u001b[0m         \u001b[1;32mreturn\u001b[0m \u001b[0mresponse\u001b[0m\u001b[1;33m\u001b[0m\u001b[1;33m\u001b[0m\u001b[0m\n",
      "\u001b[1;32m~\\anaconda3\\lib\\site-packages\\hvac\\adapters.py\u001b[0m in \u001b[0;36m_raise_for_error\u001b[1;34m(self, method, url, response)\u001b[0m\n\u001b[0;32m    256\u001b[0m             \u001b[0mmsg\u001b[0m \u001b[1;33m=\u001b[0m \u001b[0mtext\u001b[0m\u001b[1;33m\u001b[0m\u001b[1;33m\u001b[0m\u001b[0m\n\u001b[0;32m    257\u001b[0m \u001b[1;33m\u001b[0m\u001b[0m\n\u001b[1;32m--> 258\u001b[1;33m         utils.raise_for_error(\n\u001b[0m\u001b[0;32m    259\u001b[0m             \u001b[0mmethod\u001b[0m\u001b[1;33m,\u001b[0m\u001b[1;33m\u001b[0m\u001b[1;33m\u001b[0m\u001b[0m\n\u001b[0;32m    260\u001b[0m             \u001b[0murl\u001b[0m\u001b[1;33m,\u001b[0m\u001b[1;33m\u001b[0m\u001b[1;33m\u001b[0m\u001b[0m\n",
      "\u001b[1;32m~\\anaconda3\\lib\\site-packages\\hvac\\utils.py\u001b[0m in \u001b[0;36mraise_for_error\u001b[1;34m(method, url, status_code, message, errors, text, json)\u001b[0m\n\u001b[0;32m     39\u001b[0m \u001b[1;33m\u001b[0m\u001b[0m\n\u001b[0;32m     40\u001b[0m     \"\"\"\n\u001b[1;32m---> 41\u001b[1;33m     raise exceptions.VaultError.from_status(\n\u001b[0m\u001b[0;32m     42\u001b[0m         \u001b[0mstatus_code\u001b[0m\u001b[1;33m,\u001b[0m\u001b[1;33m\u001b[0m\u001b[1;33m\u001b[0m\u001b[0m\n\u001b[0;32m     43\u001b[0m         \u001b[0mmessage\u001b[0m\u001b[1;33m,\u001b[0m\u001b[1;33m\u001b[0m\u001b[1;33m\u001b[0m\u001b[0m\n",
      "\u001b[1;31mForbidden\u001b[0m: permission denied, on post http://221.139.50.49:9092/v1/auth/approle/login"
     ]
    }
   ],
   "source": [
    "with open('./private_3/lib/secret_id_ncp_mysql_cremao_dev.txt', 'r') as f:\n",
    "    secret_id = f.read().strip()\n",
    "\n",
    "client = hvac.Client(url='http://221.139.50.49:9092')\n",
    "client.auth.approle.login(role_id='796d67d0-44d1-8b6f-db85-054e3ec6c4c8',\n",
    "                          secret_id=secret_id)\n",
    "\n",
    "if client.is_authenticated():\n",
    "    generated_token = client.token\n",
    "    print('Vault generated_token - ', generated_token)\n",
    "else:\n",
    "    print(\"Vault에 접속하지 못했습니다. Role-ID와 Secret-ID가 유효한지 확인해주세요.\")\n"
   ]
  },
  {
   "cell_type": "code",
   "execution_count": 38,
   "id": "7e6c37c2",
   "metadata": {
    "ExecuteTime": {
     "end_time": "2023-06-14T05:27:20.306051Z",
     "start_time": "2023-06-14T05:27:20.294069Z"
    }
   },
   "outputs": [],
   "source": [
    "with open('./private_3/lib/secret_id_accessor_ncp_mysql_cremao_dev.txt', 'r') as file:\n",
    "     data = file.read()"
   ]
  },
  {
   "cell_type": "code",
   "execution_count": 39,
   "id": "7798146f",
   "metadata": {
    "ExecuteTime": {
     "end_time": "2023-06-14T05:27:21.516540Z",
     "start_time": "2023-06-14T05:27:21.503620Z"
    }
   },
   "outputs": [
    {
     "data": {
      "text/plain": [
       "'0d61629d-d283-ec53-8458-57cd12db9078'"
      ]
     },
     "execution_count": 39,
     "metadata": {},
     "output_type": "execute_result"
    }
   ],
   "source": [
    "data"
   ]
  },
  {
   "cell_type": "code",
   "execution_count": null,
   "id": "deecaa9e",
   "metadata": {},
   "outputs": [],
   "source": []
  }
 ],
 "metadata": {
  "kernelspec": {
   "display_name": "Python 3 (ipykernel)",
   "language": "python",
   "name": "python3"
  },
  "language_info": {
   "codemirror_mode": {
    "name": "ipython",
    "version": 3
   },
   "file_extension": ".py",
   "mimetype": "text/x-python",
   "name": "python",
   "nbconvert_exporter": "python",
   "pygments_lexer": "ipython3",
   "version": "3.9.13"
  }
 },
 "nbformat": 4,
 "nbformat_minor": 5
}
