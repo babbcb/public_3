{
 "cells": [
  {
   "cell_type": "code",
   "execution_count": 5,
   "id": "eff210fd",
   "metadata": {
    "ExecuteTime": {
     "end_time": "2023-06-14T05:19:07.781234Z",
     "start_time": "2023-06-14T05:19:07.764200Z"
    },
    "pycharm": {
     "is_executing": true
    }
   },
   "outputs": [],
   "source": [
    "import pymysql\n",
    "import psycopg2\n",
    "import hvac\n",
    "\n",
    "# DataBaseConfig 불러오기\n",
    "import sys\n",
    "import os\n",
    "sys.path.append(os.path.join(os.getcwd(), '..'))\n",
    "from private_3.lib.DataBaseConfig import DatabaseConfigInfo"
   ]
  },
  {
   "cell_type": "code",
   "execution_count": 2,
   "id": "c6ab65d7",
   "metadata": {
    "ExecuteTime": {
     "end_time": "2023-06-14T05:18:07.743709Z",
     "start_time": "2023-06-14T05:18:07.729700Z"
    }
   },
   "outputs": [
    {
     "data": {
      "text/plain": [
       "'C:\\\\Users\\\\USER\\\\Documents\\\\public_3'"
      ]
     },
     "execution_count": 2,
     "metadata": {},
     "output_type": "execute_result"
    }
   ],
   "source": [
    "os.getcwd()"
   ]
  },
  {
   "cell_type": "markdown",
   "id": "2576d470",
   "metadata": {},
   "source": [
    "# 2. ncp_mysql_cremao_dev"
   ]
  },
  {
   "cell_type": "code",
   "execution_count": 44,
   "id": "a9c4f6ec",
   "metadata": {
    "ExecuteTime": {
     "end_time": "2023-06-14T05:42:19.933480Z",
     "start_time": "2023-06-14T05:42:19.816807Z"
    },
    "scrolled": true
   },
   "outputs": [
    {
     "name": "stdout",
     "output_type": "stream",
     "text": [
      "dir_path :  C:\\Users\\USER\\Documents\\public_3\\private_3\\lib\n",
      "file_path :  C:\\Users\\USER\\Documents\\public_3\\private_3\\lib\\secret_id_ncp_mysql_cremao_dev.txt\n",
      "secret_id :  f3549c4c-dcc5-9985-2381-bca00073bb08\n",
      "Vault generated_token -  hvs.CAESIN9WA3ac1mWJNCK_Hu8r9NpT0tfYQ81zfUMHs4eXPk6FGh4KHGh2cy5jd2ZnYktRdmlLZFhvVUlGZHlCd3U2T3Q\n",
      "{'charset': 'utf8', 'db': 'cremao', 'host': 'db-fqtk1.pub-cdb.ntruss.com', 'password': 'cremao1234!!', 'user': 'cremao'}\n"
     ]
    }
   ],
   "source": [
    "db_config = DatabaseConfigInfo()\n",
    "ncp_mysql_cremao_dev = db_config.get_ncp_mysql_cremao_dev()\n",
    "\n",
    "# NCP DB Connect\n",
    "conn = pymysql.connect(host=ncp_mysql_cremao_dev['host'],\n",
    "                       user=ncp_mysql_cremao_dev['user'],\n",
    "                       password=ncp_mysql_cremao_dev['password'],\n",
    "                       db=ncp_mysql_cremao_dev['db'],\n",
    "                       charset=ncp_mysql_cremao_dev['charset']\n",
    "                       )\n",
    "\n",
    "conn.close()\n",
    "print(ncp_mysql_cremao_dev)"
   ]
  },
  {
   "cell_type": "code",
   "execution_count": null,
   "id": "6e579a1f",
   "metadata": {},
   "outputs": [],
   "source": []
  },
  {
   "cell_type": "code",
   "execution_count": 51,
   "id": "71440f5a",
   "metadata": {
    "ExecuteTime": {
     "end_time": "2023-06-14T05:45:59.424512Z",
     "start_time": "2023-06-14T05:45:59.275570Z"
    }
   },
   "outputs": [
    {
     "name": "stdout",
     "output_type": "stream",
     "text": [
      "{'request_id': '5f9bc0e8-e9ac-c9e0-2851-b8ae01e3f48a', 'lease_id': '', 'renewable': False, 'lease_duration': 0, 'data': {'secret_id': '4e8a5817-d9ad-1d98-0e38-4284919c5974', 'secret_id_accessor': '49868d98-bd07-3933-78dd-67a47a34a77b', 'secret_id_num_uses': 0, 'secret_id_ttl': 1814400}, 'wrap_info': None, 'warnings': None, 'auth': None}\n"
     ]
    }
   ],
   "source": [
    "# Create a new client with the given token\n",
    "#client = hvac.Client(url='http://221.139.50.49:9092', token='hvs.CAESIF8Gx2Sr5pYP7RQC3kYJLm88enHXwGzKkaFHHdrw96ulGh4KHGh2cy5lU3RwRlptdjBnWjU0UVFOYnBFQVNPOEs')\n",
    "# 사용자 이름과 비밀번호\n",
    "username = 'airflow'\n",
    "password = 'xidpAjmFd1cSWLJ'\n",
    "\n",
    "# Client 객체 생성\n",
    "client = hvac.Client(url='http://221.139.50.49:9092')\n",
    "\n",
    "# 사용자 이름과 비밀번호로 로그인\n",
    "client.auth.userpass.login(username=username, password=password)\n",
    "\n",
    "# Generate a new secret id for the role\n",
    "secret_id = client.auth.approle.generate_secret_id(role_name='ncp_mysql_cremao_dev_read')\n",
    "\n",
    "# Print the secret id\n",
    "print(secret_id)\n"
   ]
  },
  {
   "cell_type": "code",
   "execution_count": 52,
   "id": "c64b6db2",
   "metadata": {
    "ExecuteTime": {
     "end_time": "2023-06-14T05:46:01.777479Z",
     "start_time": "2023-06-14T05:46:01.771840Z"
    }
   },
   "outputs": [
    {
     "name": "stdout",
     "output_type": "stream",
     "text": [
      "4e8a5817-d9ad-1d98-0e38-4284919c5974\n",
      "49868d98-bd07-3933-78dd-67a47a34a77b\n"
     ]
    }
   ],
   "source": [
    "new_secret_id = secret_id['data']['secret_id']\n",
    "print(new_secret_id)\n",
    "\n",
    "new_secret_id_accessor = secret_id['data']['secret_id_accessor']\n",
    "print(new_secret_id_accessor)"
   ]
  },
  {
   "cell_type": "code",
   "execution_count": 53,
   "id": "7f47d2a4",
   "metadata": {
    "ExecuteTime": {
     "end_time": "2023-06-14T05:46:07.084326Z",
     "start_time": "2023-06-14T05:46:07.067375Z"
    }
   },
   "outputs": [],
   "source": [
    "with open('./private_3/lib/secret_id_ncp_mysql_cremao_dev.txt', 'w') as f:\n",
    "    f.write(new_secret_id)\n",
    "    \n",
    "with open('./private_3/lib/secret_id_accessor_ncp_mysql_cremao_dev.txt', 'w') as f:\n",
    "    f.write(new_secret_id_accessor)"
   ]
  },
  {
   "cell_type": "code",
   "execution_count": 57,
   "id": "dfa644f5",
   "metadata": {
    "ExecuteTime": {
     "end_time": "2023-06-14T06:46:19.044961Z",
     "start_time": "2023-06-14T06:46:19.009003Z"
    }
   },
   "outputs": [
    {
     "name": "stdout",
     "output_type": "stream",
     "text": [
      "Vault generated_token -  hvs.CAESIEeexoT2n9PS0TWmIgyTdXv7B93iYbIzRtu8mqNSznxqGh4KHGh2cy5qdDROR2xiejhoNkI1MXZmSFpsR1BEd0M\n"
     ]
    }
   ],
   "source": [
    "client = hvac.Client(url='http://221.139.50.49:9092')\n",
    "client.auth.approle.login(role_id='796d67d0-44d1-8b6f-db85-054e3ec6c4c8',\n",
    "                          secret_id='0f374ed8-b163-2a5e-9ac4-a49311c45b37')\n",
    "\n",
    "if client.is_authenticated():\n",
    "    generated_token = client.token\n",
    "    print('Vault generated_token - ', generated_token)\n",
    "else:\n",
    "    print(\"Vault에 접속하지 못했습니다. Role-ID와 Secret-ID가 유효한지 확인해주세요.\")\n"
   ]
  },
  {
   "cell_type": "code",
   "execution_count": 58,
   "id": "ad637997",
   "metadata": {
    "ExecuteTime": {
     "end_time": "2023-06-14T06:46:20.752273Z",
     "start_time": "2023-06-14T06:46:20.706475Z"
    }
   },
   "outputs": [
    {
     "name": "stdout",
     "output_type": "stream",
     "text": [
      "--------------------------------------------------\n",
      "b'{\"errors\":[\"1 error occurred:\\\\n\\\\t* failed to find accessor entry for secret_id_accessor: \\\\\"49868d98-bd07-3933-78dd-67a47a34a77b\\\\\"\\\\n\\\\n\"]}\\n'\n",
      "<Response [500]>\n"
     ]
    }
   ],
   "source": [
    "import requests\n",
    "\n",
    "headers = {\n",
    "    'X-Vault-Token': 'hvs.CAESIF8Gx2Sr5pYP7RQC3kYJLm88enHXwGzKkaFHHdrw96ulGh4KHGh2cy5lU3RwRlptdjBnWjU0UVFOYnBFQVNPOEs',\n",
    "}\n",
    "\n",
    "with open('./private_3/lib/secret_id_accessor_ncp_mysql_cremao_dev.txt', 'r') as f:\n",
    "    secret_id_accessor = f.read().strip()\n",
    "\n",
    "data = {\n",
    "  'secret_id_accessor': secret_id_accessor\n",
    "}\n",
    "\n",
    "response = requests.post('http://221.139.50.49:9092/v1/auth/approle/role/ncp_mysql_cremao_dev_read/secret-id-accessor/destroy', headers=headers, json=data)\n",
    "\n",
    "print('-'*50)\n",
    "print(response.content)\n",
    "print(response)"
   ]
  },
  {
   "cell_type": "code",
   "execution_count": 59,
   "id": "4fd1e5bd",
   "metadata": {
    "ExecuteTime": {
     "end_time": "2023-06-14T06:46:21.132221Z",
     "start_time": "2023-06-14T06:46:21.085880Z"
    }
   },
   "outputs": [
    {
     "ename": "InternalServerError",
     "evalue": "invalid secret id, on post http://221.139.50.49:9092/v1/auth/approle/login",
     "output_type": "error",
     "traceback": [
      "\u001b[1;31m---------------------------------------------------------------------------\u001b[0m",
      "\u001b[1;31mInternalServerError\u001b[0m                       Traceback (most recent call last)",
      "\u001b[1;32m~\\AppData\\Local\\Temp\\ipykernel_1540\\3634194063.py\u001b[0m in \u001b[0;36m<module>\u001b[1;34m\u001b[0m\n\u001b[0;32m      3\u001b[0m \u001b[1;33m\u001b[0m\u001b[0m\n\u001b[0;32m      4\u001b[0m \u001b[0mclient\u001b[0m \u001b[1;33m=\u001b[0m \u001b[0mhvac\u001b[0m\u001b[1;33m.\u001b[0m\u001b[0mClient\u001b[0m\u001b[1;33m(\u001b[0m\u001b[0murl\u001b[0m\u001b[1;33m=\u001b[0m\u001b[1;34m'http://221.139.50.49:9092'\u001b[0m\u001b[1;33m)\u001b[0m\u001b[1;33m\u001b[0m\u001b[1;33m\u001b[0m\u001b[0m\n\u001b[1;32m----> 5\u001b[1;33m client.auth.approle.login(role_id='796d67d0-44d1-8b6f-db85-054e3ec6c4c8',\n\u001b[0m\u001b[0;32m      6\u001b[0m                           secret_id=secret_id)\n\u001b[0;32m      7\u001b[0m \u001b[1;33m\u001b[0m\u001b[0m\n",
      "\u001b[1;32m~\\anaconda3\\lib\\site-packages\\hvac\\api\\auth_methods\\approle.py\u001b[0m in \u001b[0;36mlogin\u001b[1;34m(self, role_id, secret_id, use_token, mount_point)\u001b[0m\n\u001b[0;32m    504\u001b[0m             \u001b[1;34m\"/v1/auth/{mount_point}/login\"\u001b[0m\u001b[1;33m,\u001b[0m \u001b[0mmount_point\u001b[0m\u001b[1;33m=\u001b[0m\u001b[0mmount_point\u001b[0m\u001b[1;33m\u001b[0m\u001b[1;33m\u001b[0m\u001b[0m\n\u001b[0;32m    505\u001b[0m         )\n\u001b[1;32m--> 506\u001b[1;33m         return self._adapter.login(\n\u001b[0m\u001b[0;32m    507\u001b[0m             \u001b[0murl\u001b[0m\u001b[1;33m=\u001b[0m\u001b[0mapi_path\u001b[0m\u001b[1;33m,\u001b[0m\u001b[1;33m\u001b[0m\u001b[1;33m\u001b[0m\u001b[0m\n\u001b[0;32m    508\u001b[0m             \u001b[0muse_token\u001b[0m\u001b[1;33m=\u001b[0m\u001b[0muse_token\u001b[0m\u001b[1;33m,\u001b[0m\u001b[1;33m\u001b[0m\u001b[1;33m\u001b[0m\u001b[0m\n",
      "\u001b[1;32m~\\anaconda3\\lib\\site-packages\\hvac\\adapters.py\u001b[0m in \u001b[0;36mlogin\u001b[1;34m(self, url, use_token, **kwargs)\u001b[0m\n\u001b[0;32m    192\u001b[0m         \u001b[1;33m:\u001b[0m\u001b[0mrtype\u001b[0m\u001b[1;33m:\u001b[0m \u001b[0mrequests\u001b[0m\u001b[1;33m.\u001b[0m\u001b[0mResponse\u001b[0m\u001b[1;33m\u001b[0m\u001b[1;33m\u001b[0m\u001b[0m\n\u001b[0;32m    193\u001b[0m         \"\"\"\n\u001b[1;32m--> 194\u001b[1;33m         \u001b[0mresponse\u001b[0m \u001b[1;33m=\u001b[0m \u001b[0mself\u001b[0m\u001b[1;33m.\u001b[0m\u001b[0mpost\u001b[0m\u001b[1;33m(\u001b[0m\u001b[0murl\u001b[0m\u001b[1;33m,\u001b[0m \u001b[1;33m**\u001b[0m\u001b[0mkwargs\u001b[0m\u001b[1;33m)\u001b[0m\u001b[1;33m\u001b[0m\u001b[1;33m\u001b[0m\u001b[0m\n\u001b[0m\u001b[0;32m    195\u001b[0m \u001b[1;33m\u001b[0m\u001b[0m\n\u001b[0;32m    196\u001b[0m         \u001b[1;32mif\u001b[0m \u001b[0muse_token\u001b[0m\u001b[1;33m:\u001b[0m\u001b[1;33m\u001b[0m\u001b[1;33m\u001b[0m\u001b[0m\n",
      "\u001b[1;32m~\\anaconda3\\lib\\site-packages\\hvac\\adapters.py\u001b[0m in \u001b[0;36mpost\u001b[1;34m(self, url, **kwargs)\u001b[0m\n\u001b[0;32m    121\u001b[0m         \u001b[1;33m:\u001b[0m\u001b[0mrtype\u001b[0m\u001b[1;33m:\u001b[0m \u001b[0mrequests\u001b[0m\u001b[1;33m.\u001b[0m\u001b[0mResponse\u001b[0m\u001b[1;33m\u001b[0m\u001b[1;33m\u001b[0m\u001b[0m\n\u001b[0;32m    122\u001b[0m         \"\"\"\n\u001b[1;32m--> 123\u001b[1;33m         \u001b[1;32mreturn\u001b[0m \u001b[0mself\u001b[0m\u001b[1;33m.\u001b[0m\u001b[0mrequest\u001b[0m\u001b[1;33m(\u001b[0m\u001b[1;34m\"post\"\u001b[0m\u001b[1;33m,\u001b[0m \u001b[0murl\u001b[0m\u001b[1;33m,\u001b[0m \u001b[1;33m**\u001b[0m\u001b[0mkwargs\u001b[0m\u001b[1;33m)\u001b[0m\u001b[1;33m\u001b[0m\u001b[1;33m\u001b[0m\u001b[0m\n\u001b[0m\u001b[0;32m    124\u001b[0m \u001b[1;33m\u001b[0m\u001b[0m\n\u001b[0;32m    125\u001b[0m     \u001b[1;32mdef\u001b[0m \u001b[0mput\u001b[0m\u001b[1;33m(\u001b[0m\u001b[0mself\u001b[0m\u001b[1;33m,\u001b[0m \u001b[0murl\u001b[0m\u001b[1;33m,\u001b[0m \u001b[1;33m**\u001b[0m\u001b[0mkwargs\u001b[0m\u001b[1;33m)\u001b[0m\u001b[1;33m:\u001b[0m\u001b[1;33m\u001b[0m\u001b[1;33m\u001b[0m\u001b[0m\n",
      "\u001b[1;32m~\\anaconda3\\lib\\site-packages\\hvac\\adapters.py\u001b[0m in \u001b[0;36mrequest\u001b[1;34m(self, *args, **kwargs)\u001b[0m\n\u001b[0;32m    370\u001b[0m         \u001b[1;33m:\u001b[0m\u001b[0mrtype\u001b[0m\u001b[1;33m:\u001b[0m \u001b[0mdict\u001b[0m \u001b[1;33m|\u001b[0m \u001b[0mrequests\u001b[0m\u001b[1;33m.\u001b[0m\u001b[0mResponse\u001b[0m\u001b[1;33m\u001b[0m\u001b[1;33m\u001b[0m\u001b[0m\n\u001b[0;32m    371\u001b[0m         \"\"\"\n\u001b[1;32m--> 372\u001b[1;33m         \u001b[0mresponse\u001b[0m \u001b[1;33m=\u001b[0m \u001b[0msuper\u001b[0m\u001b[1;33m(\u001b[0m\u001b[1;33m)\u001b[0m\u001b[1;33m.\u001b[0m\u001b[0mrequest\u001b[0m\u001b[1;33m(\u001b[0m\u001b[1;33m*\u001b[0m\u001b[0margs\u001b[0m\u001b[1;33m,\u001b[0m \u001b[1;33m**\u001b[0m\u001b[0mkwargs\u001b[0m\u001b[1;33m)\u001b[0m\u001b[1;33m\u001b[0m\u001b[1;33m\u001b[0m\u001b[0m\n\u001b[0m\u001b[0;32m    373\u001b[0m         \u001b[1;32mif\u001b[0m \u001b[0mresponse\u001b[0m\u001b[1;33m.\u001b[0m\u001b[0mstatus_code\u001b[0m \u001b[1;33m==\u001b[0m \u001b[1;36m200\u001b[0m\u001b[1;33m:\u001b[0m\u001b[1;33m\u001b[0m\u001b[1;33m\u001b[0m\u001b[0m\n\u001b[0;32m    374\u001b[0m             \u001b[1;32mtry\u001b[0m\u001b[1;33m:\u001b[0m\u001b[1;33m\u001b[0m\u001b[1;33m\u001b[0m\u001b[0m\n",
      "\u001b[1;32m~\\anaconda3\\lib\\site-packages\\hvac\\adapters.py\u001b[0m in \u001b[0;36mrequest\u001b[1;34m(self, method, url, headers, raise_exception, **kwargs)\u001b[0m\n\u001b[0;32m    338\u001b[0m \u001b[1;33m\u001b[0m\u001b[0m\n\u001b[0;32m    339\u001b[0m         \u001b[1;32mif\u001b[0m \u001b[1;32mnot\u001b[0m \u001b[0mresponse\u001b[0m\u001b[1;33m.\u001b[0m\u001b[0mok\u001b[0m \u001b[1;32mand\u001b[0m \u001b[1;33m(\u001b[0m\u001b[0mraise_exception\u001b[0m \u001b[1;32mand\u001b[0m \u001b[1;32mnot\u001b[0m \u001b[0mself\u001b[0m\u001b[1;33m.\u001b[0m\u001b[0mignore_exceptions\u001b[0m\u001b[1;33m)\u001b[0m\u001b[1;33m:\u001b[0m\u001b[1;33m\u001b[0m\u001b[1;33m\u001b[0m\u001b[0m\n\u001b[1;32m--> 340\u001b[1;33m             \u001b[0mself\u001b[0m\u001b[1;33m.\u001b[0m\u001b[0m_raise_for_error\u001b[0m\u001b[1;33m(\u001b[0m\u001b[0mmethod\u001b[0m\u001b[1;33m,\u001b[0m \u001b[0murl\u001b[0m\u001b[1;33m,\u001b[0m \u001b[0mresponse\u001b[0m\u001b[1;33m)\u001b[0m\u001b[1;33m\u001b[0m\u001b[1;33m\u001b[0m\u001b[0m\n\u001b[0m\u001b[0;32m    341\u001b[0m \u001b[1;33m\u001b[0m\u001b[0m\n\u001b[0;32m    342\u001b[0m         \u001b[1;32mreturn\u001b[0m \u001b[0mresponse\u001b[0m\u001b[1;33m\u001b[0m\u001b[1;33m\u001b[0m\u001b[0m\n",
      "\u001b[1;32m~\\anaconda3\\lib\\site-packages\\hvac\\adapters.py\u001b[0m in \u001b[0;36m_raise_for_error\u001b[1;34m(self, method, url, response)\u001b[0m\n\u001b[0;32m    256\u001b[0m             \u001b[0mmsg\u001b[0m \u001b[1;33m=\u001b[0m \u001b[0mtext\u001b[0m\u001b[1;33m\u001b[0m\u001b[1;33m\u001b[0m\u001b[0m\n\u001b[0;32m    257\u001b[0m \u001b[1;33m\u001b[0m\u001b[0m\n\u001b[1;32m--> 258\u001b[1;33m         utils.raise_for_error(\n\u001b[0m\u001b[0;32m    259\u001b[0m             \u001b[0mmethod\u001b[0m\u001b[1;33m,\u001b[0m\u001b[1;33m\u001b[0m\u001b[1;33m\u001b[0m\u001b[0m\n\u001b[0;32m    260\u001b[0m             \u001b[0murl\u001b[0m\u001b[1;33m,\u001b[0m\u001b[1;33m\u001b[0m\u001b[1;33m\u001b[0m\u001b[0m\n",
      "\u001b[1;32m~\\anaconda3\\lib\\site-packages\\hvac\\utils.py\u001b[0m in \u001b[0;36mraise_for_error\u001b[1;34m(method, url, status_code, message, errors, text, json)\u001b[0m\n\u001b[0;32m     39\u001b[0m \u001b[1;33m\u001b[0m\u001b[0m\n\u001b[0;32m     40\u001b[0m     \"\"\"\n\u001b[1;32m---> 41\u001b[1;33m     raise exceptions.VaultError.from_status(\n\u001b[0m\u001b[0;32m     42\u001b[0m         \u001b[0mstatus_code\u001b[0m\u001b[1;33m,\u001b[0m\u001b[1;33m\u001b[0m\u001b[1;33m\u001b[0m\u001b[0m\n\u001b[0;32m     43\u001b[0m         \u001b[0mmessage\u001b[0m\u001b[1;33m,\u001b[0m\u001b[1;33m\u001b[0m\u001b[1;33m\u001b[0m\u001b[0m\n",
      "\u001b[1;31mInternalServerError\u001b[0m: invalid secret id, on post http://221.139.50.49:9092/v1/auth/approle/login"
     ]
    }
   ],
   "source": [
    "with open('./private_3/lib/secret_id_ncp_mysql_cremao_dev.txt', 'r') as f:\n",
    "    secret_id = f.read().strip()\n",
    "\n",
    "client = hvac.Client(url='http://221.139.50.49:9092')\n",
    "client.auth.approle.login(role_id='796d67d0-44d1-8b6f-db85-054e3ec6c4c8',\n",
    "                          secret_id=secret_id)\n",
    "\n",
    "if client.is_authenticated():\n",
    "    generated_token = client.token\n",
    "    print('Vault generated_token - ', generated_token)\n",
    "else:\n",
    "    print(\"Vault에 접속하지 못했습니다. Role-ID와 Secret-ID가 유효한지 확인해주세요.\")\n"
   ]
  },
  {
   "cell_type": "code",
   "execution_count": 60,
   "id": "e34ec48c",
   "metadata": {
    "ExecuteTime": {
     "end_time": "2023-06-14T06:46:21.539334Z",
     "start_time": "2023-06-14T06:46:21.524038Z"
    }
   },
   "outputs": [],
   "source": [
    "with open('./private_3/lib/secret_id_accessor_ncp_mysql_cremao_dev.txt', 'r') as file:\n",
    "     data = file.read()"
   ]
  },
  {
   "cell_type": "code",
   "execution_count": 61,
   "id": "a9fc0713",
   "metadata": {
    "ExecuteTime": {
     "end_time": "2023-06-14T06:46:22.339862Z",
     "start_time": "2023-06-14T06:46:22.334010Z"
    }
   },
   "outputs": [
    {
     "data": {
      "text/plain": [
       "'49868d98-bd07-3933-78dd-67a47a34a77b'"
      ]
     },
     "execution_count": 61,
     "metadata": {},
     "output_type": "execute_result"
    }
   ],
   "source": [
    "data"
   ]
  },
  {
   "cell_type": "code",
   "execution_count": null,
   "id": "618eddb8",
   "metadata": {},
   "outputs": [],
   "source": []
  },
  {
   "cell_type": "code",
   "execution_count": null,
   "id": "bdf4a061",
   "metadata": {},
   "outputs": [],
   "source": []
  },
  {
   "cell_type": "code",
   "execution_count": null,
   "id": "3aa652b5",
   "metadata": {},
   "outputs": [],
   "source": []
  },
  {
   "cell_type": "code",
   "execution_count": 63,
   "id": "1fc45e04",
   "metadata": {
    "ExecuteTime": {
     "end_time": "2023-06-14T07:02:46.866833Z",
     "start_time": "2023-06-14T07:02:46.592399Z"
    }
   },
   "outputs": [],
   "source": [
    "### 임포트\n",
    "import os\n",
    "import paramiko\n",
    "from scp import SCPClient, SCPException"
   ]
  },
  {
   "cell_type": "code",
   "execution_count": 64,
   "id": "2d97814d",
   "metadata": {
    "ExecuteTime": {
     "end_time": "2023-06-14T07:03:02.576463Z",
     "start_time": "2023-06-14T07:03:02.563475Z"
    }
   },
   "outputs": [],
   "source": [
    "### 함수 생성\n",
    "class SSHManager:\n",
    "\n",
    "    def __init__(self):\n",
    "        self.ssh_client = None\n",
    "\n",
    "    def create_ssh_client(self, hostname, username, password, port):\n",
    "        if self.ssh_client is None:\n",
    "            self.ssh_client = paramiko.SSHClient()\n",
    "            self.ssh_client.set_missing_host_key_policy(paramiko.AutoAddPolicy())\n",
    "            self.ssh_client.connect(hostname, username=username, password=password, port = port)\n",
    "            print(\"SSH client session connected.\")\n",
    "        else:\n",
    "            print(\"SSH client session exist.\")\n",
    "\n",
    "    def close_ssh_client(self):\n",
    "        self.ssh_client.close()\n",
    "\n",
    "    def send_file(self, local_path, remote_path):\n",
    "        try:\n",
    "            with SCPClient(self.ssh_client.get_transport()) as scp:\n",
    "                \n",
    "                # remote_path에 폴더가 없으면 생성하는 코드\n",
    "                remote_dir = os.path.dirname(remote_path)\n",
    "                if not self._path_exists(remote_dir):\n",
    "                    self._create_remote_directory(remote_dir)\n",
    "                    \n",
    "                # local_path 경로 안에 있는 파일목록 조회\n",
    "                files = os.listdir(local_path)\n",
    "                \n",
    "                # 각 파일을 remote_path 경로에 전송\n",
    "                for file_name in files:\n",
    "                    local_file_path = os.path.join(local_path, file_name)\n",
    "                    remote_file_path = os.path.join(remote_path, file_name)\n",
    "                    scp.put(local_file_path, remote_file_path, preserve_times=True)\n",
    "                    print('Done - SCP 파일 전송 완료 - ', file_name)\n",
    "                    \n",
    "        except SCPException:\n",
    "            raise SCPException.message\n",
    "\n",
    "    def get_file(self, remote_path, local_path):\n",
    "        try:\n",
    "            with SCPClient(self.ssh_client.get_transport()) as scp:\n",
    "                scp.get(remote_path, local_path)\n",
    "        except SCPException:\n",
    "            raise SCPException.message\n",
    "\n",
    "    def send_command(self, command):\n",
    "        stdin, stdout, stderr = self.ssh_client.exec_command(command)\n",
    "        return stdout.readlines()\n",
    "    \n",
    "    # 해당 경로에 폴더가 존재하는지 확인\n",
    "    def _path_exists(self, remote_path):\n",
    "        command = f\"[ -e {remote_path} ] && echo True || echo False\"\n",
    "        stdin, stdout, stderr = self.ssh_client.exec_command(command)\n",
    "        result = stdout.read().decode().strip()\n",
    "        return result == \"True\"\n",
    "    \n",
    "    # 해당 경로에 폴더가 없으면 폴더 생성\n",
    "    def _create_remote_directory(self, remote_dir):\n",
    "        command = f\"mkdir -p {remote_dir}\"\n",
    "        stdin, stdout, stderr = self.ssh_client.exec_command(command)\n",
    "        if stdout.channel.recv_exit_status() != 0:\n",
    "            raise SCPException.message(\"Failed to create remote directory\")\n"
   ]
  },
  {
   "cell_type": "code",
   "execution_count": 66,
   "id": "10ff7327",
   "metadata": {
    "ExecuteTime": {
     "end_time": "2023-06-14T07:36:47.805864Z",
     "start_time": "2023-06-14T07:36:45.712585Z"
    }
   },
   "outputs": [
    {
     "ename": "NoValidConnectionsError",
     "evalue": "[Errno None] Unable to connect to port 8000 on 221.139.50.49",
     "output_type": "error",
     "traceback": [
      "\u001b[1;31m---------------------------------------------------------------------------\u001b[0m",
      "\u001b[1;31mNoValidConnectionsError\u001b[0m                   Traceback (most recent call last)",
      "\u001b[1;32m~\\AppData\\Local\\Temp\\ipykernel_1540\\2133719541.py\u001b[0m in \u001b[0;36m<module>\u001b[1;34m\u001b[0m\n\u001b[0;32m      3\u001b[0m \u001b[1;33m\u001b[0m\u001b[0m\n\u001b[0;32m      4\u001b[0m \u001b[1;31m# 세션생성\u001b[0m\u001b[1;33m\u001b[0m\u001b[1;33m\u001b[0m\u001b[0m\n\u001b[1;32m----> 5\u001b[1;33m \u001b[0mssh_manager\u001b[0m\u001b[1;33m.\u001b[0m\u001b[0mcreate_ssh_client\u001b[0m\u001b[1;33m(\u001b[0m\u001b[1;34m\"221.139.50.49\"\u001b[0m\u001b[1;33m,\u001b[0m \u001b[1;34m\"root\"\u001b[0m\u001b[1;33m,\u001b[0m \u001b[1;34m\"calvin\"\u001b[0m\u001b[1;33m,\u001b[0m \u001b[1;34m\"8000\"\u001b[0m\u001b[1;33m)\u001b[0m\u001b[1;33m\u001b[0m\u001b[1;33m\u001b[0m\u001b[0m\n\u001b[0m",
      "\u001b[1;32m~\\AppData\\Local\\Temp\\ipykernel_1540\\2826731363.py\u001b[0m in \u001b[0;36mcreate_ssh_client\u001b[1;34m(self, hostname, username, password, port)\u001b[0m\n\u001b[0;32m      9\u001b[0m             \u001b[0mself\u001b[0m\u001b[1;33m.\u001b[0m\u001b[0mssh_client\u001b[0m \u001b[1;33m=\u001b[0m \u001b[0mparamiko\u001b[0m\u001b[1;33m.\u001b[0m\u001b[0mSSHClient\u001b[0m\u001b[1;33m(\u001b[0m\u001b[1;33m)\u001b[0m\u001b[1;33m\u001b[0m\u001b[1;33m\u001b[0m\u001b[0m\n\u001b[0;32m     10\u001b[0m             \u001b[0mself\u001b[0m\u001b[1;33m.\u001b[0m\u001b[0mssh_client\u001b[0m\u001b[1;33m.\u001b[0m\u001b[0mset_missing_host_key_policy\u001b[0m\u001b[1;33m(\u001b[0m\u001b[0mparamiko\u001b[0m\u001b[1;33m.\u001b[0m\u001b[0mAutoAddPolicy\u001b[0m\u001b[1;33m(\u001b[0m\u001b[1;33m)\u001b[0m\u001b[1;33m)\u001b[0m\u001b[1;33m\u001b[0m\u001b[1;33m\u001b[0m\u001b[0m\n\u001b[1;32m---> 11\u001b[1;33m             \u001b[0mself\u001b[0m\u001b[1;33m.\u001b[0m\u001b[0mssh_client\u001b[0m\u001b[1;33m.\u001b[0m\u001b[0mconnect\u001b[0m\u001b[1;33m(\u001b[0m\u001b[0mhostname\u001b[0m\u001b[1;33m,\u001b[0m \u001b[0musername\u001b[0m\u001b[1;33m=\u001b[0m\u001b[0musername\u001b[0m\u001b[1;33m,\u001b[0m \u001b[0mpassword\u001b[0m\u001b[1;33m=\u001b[0m\u001b[0mpassword\u001b[0m\u001b[1;33m,\u001b[0m \u001b[0mport\u001b[0m \u001b[1;33m=\u001b[0m \u001b[0mport\u001b[0m\u001b[1;33m)\u001b[0m\u001b[1;33m\u001b[0m\u001b[1;33m\u001b[0m\u001b[0m\n\u001b[0m\u001b[0;32m     12\u001b[0m             \u001b[0mprint\u001b[0m\u001b[1;33m(\u001b[0m\u001b[1;34m\"SSH client session connected.\"\u001b[0m\u001b[1;33m)\u001b[0m\u001b[1;33m\u001b[0m\u001b[1;33m\u001b[0m\u001b[0m\n\u001b[0;32m     13\u001b[0m         \u001b[1;32melse\u001b[0m\u001b[1;33m:\u001b[0m\u001b[1;33m\u001b[0m\u001b[1;33m\u001b[0m\u001b[0m\n",
      "\u001b[1;32m~\\anaconda3\\lib\\site-packages\\paramiko\\client.py\u001b[0m in \u001b[0;36mconnect\u001b[1;34m(self, hostname, port, username, password, pkey, key_filename, timeout, allow_agent, look_for_keys, compress, sock, gss_auth, gss_kex, gss_deleg_creds, gss_host, banner_timeout, auth_timeout, channel_timeout, gss_trust_dns, passphrase, disabled_algorithms, transport_factory)\u001b[0m\n\u001b[0;32m    386\u001b[0m             \u001b[1;31m# (socket.error)\u001b[0m\u001b[1;33m\u001b[0m\u001b[1;33m\u001b[0m\u001b[0m\n\u001b[0;32m    387\u001b[0m             \u001b[1;32mif\u001b[0m \u001b[0mlen\u001b[0m\u001b[1;33m(\u001b[0m\u001b[0merrors\u001b[0m\u001b[1;33m)\u001b[0m \u001b[1;33m==\u001b[0m \u001b[0mlen\u001b[0m\u001b[1;33m(\u001b[0m\u001b[0mto_try\u001b[0m\u001b[1;33m)\u001b[0m\u001b[1;33m:\u001b[0m\u001b[1;33m\u001b[0m\u001b[1;33m\u001b[0m\u001b[0m\n\u001b[1;32m--> 388\u001b[1;33m                 \u001b[1;32mraise\u001b[0m \u001b[0mNoValidConnectionsError\u001b[0m\u001b[1;33m(\u001b[0m\u001b[0merrors\u001b[0m\u001b[1;33m)\u001b[0m\u001b[1;33m\u001b[0m\u001b[1;33m\u001b[0m\u001b[0m\n\u001b[0m\u001b[0;32m    389\u001b[0m \u001b[1;33m\u001b[0m\u001b[0m\n\u001b[0;32m    390\u001b[0m         \u001b[1;32mif\u001b[0m \u001b[0mtransport_factory\u001b[0m \u001b[1;32mis\u001b[0m \u001b[1;32mNone\u001b[0m\u001b[1;33m:\u001b[0m\u001b[1;33m\u001b[0m\u001b[1;33m\u001b[0m\u001b[0m\n",
      "\u001b[1;31mNoValidConnectionsError\u001b[0m: [Errno None] Unable to connect to port 8000 on 221.139.50.49"
     ]
    }
   ],
   "source": [
    "### 파일 전송\n",
    "ssh_manager = SSHManager()\n",
    "\n",
    "# 세션생성\n",
    "ssh_manager.create_ssh_client(\"221.139.50.49\", \"root\", \"calvin\", \"8000\") "
   ]
  },
  {
   "cell_type": "code",
   "execution_count": null,
   "id": "150692ec",
   "metadata": {},
   "outputs": [],
   "source": []
  }
 ],
 "metadata": {
  "kernelspec": {
   "display_name": "Python 3 (ipykernel)",
   "language": "python",
   "name": "python3"
  },
  "language_info": {
   "codemirror_mode": {
    "name": "ipython",
    "version": 3
   },
   "file_extension": ".py",
   "mimetype": "text/x-python",
   "name": "python",
   "nbconvert_exporter": "python",
   "pygments_lexer": "ipython3",
   "version": "3.9.13"
  }
 },
 "nbformat": 4,
 "nbformat_minor": 5
}
