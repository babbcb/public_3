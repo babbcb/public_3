{
 "cells": [
  {
   "cell_type": "code",
   "execution_count": 2,
   "id": "eff210fd",
   "metadata": {
    "ExecuteTime": {
     "end_time": "2023-06-14T00:59:17.569205Z",
     "start_time": "2023-06-14T00:59:17.549391Z"
    },
    "pycharm": {
     "is_executing": true
    }
   },
   "outputs": [
    {
     "ename": "SyntaxError",
     "evalue": "invalid syntax (DataBaseConfig.py, line 16)",
     "output_type": "error",
     "traceback": [
      "Traceback \u001b[1;36m(most recent call last)\u001b[0m:\n",
      "  File \u001b[0;32m\"C:\\Users\\USER\\anaconda3\\lib\\site-packages\\IPython\\core\\interactiveshell.py\"\u001b[0m, line \u001b[0;32m3457\u001b[0m, in \u001b[0;35mrun_code\u001b[0m\n    exec(code_obj, self.user_global_ns, self.user_ns)\n",
      "\u001b[1;36m  File \u001b[1;32m\"C:\\Users\\USER\\AppData\\Local\\Temp\\ipykernel_20640\\3063799978.py\"\u001b[1;36m, line \u001b[1;32m8\u001b[1;36m, in \u001b[1;35m<module>\u001b[1;36m\u001b[0m\n\u001b[1;33m    from private_3.lib.DataBaseConfig import DatabaseConfigInfo\u001b[0m\n",
      "\u001b[1;36m  File \u001b[1;32m\"C:\\Users\\USER\\Documents\\public_3\\private_3\\lib\\DataBaseConfig.py\"\u001b[1;36m, line \u001b[1;32m16\u001b[0m\n\u001b[1;33m    client.\u001b[0m\n\u001b[1;37m           ^\u001b[0m\n\u001b[1;31mSyntaxError\u001b[0m\u001b[1;31m:\u001b[0m invalid syntax\n"
     ]
    }
   ],
   "source": [
    "import pymysql\n",
    "import psycopg2\n",
    "\n",
    "# DataBaseConfig 불러오기\n",
    "import sys\n",
    "import os\n",
    "sys.path.append(os.path.join(os.getcwd(), '..'))\n",
    "from private_3.lib.DataBaseConfig import DatabaseConfigInfo"
   ]
  },
  {
   "cell_type": "code",
   "execution_count": 3,
   "id": "c6ab65d7",
   "metadata": {
    "ExecuteTime": {
     "end_time": "2023-06-14T00:59:18.371518Z",
     "start_time": "2023-06-14T00:59:18.357136Z"
    }
   },
   "outputs": [
    {
     "data": {
      "text/plain": [
       "'C:\\\\Users\\\\USER\\\\Documents\\\\public_3'"
      ]
     },
     "execution_count": 3,
     "metadata": {},
     "output_type": "execute_result"
    }
   ],
   "source": [
    "os.getcwd()"
   ]
  },
  {
   "cell_type": "markdown",
   "id": "2576d470",
   "metadata": {},
   "source": [
    "# 2. ncp_mysql_cremao_dev"
   ]
  },
  {
   "cell_type": "code",
   "execution_count": 3,
   "id": "a9c4f6ec",
   "metadata": {
    "ExecuteTime": {
     "end_time": "2023-06-14T00:41:26.636722Z",
     "start_time": "2023-06-14T00:41:26.489460Z"
    }
   },
   "outputs": [
    {
     "ename": "FileNotFoundError",
     "evalue": "[Errno 2] No such file or directory: './secret_id_ncp_mysql_cremao_dev.txt'",
     "output_type": "error",
     "traceback": [
      "\u001b[1;31m---------------------------------------------------------------------------\u001b[0m",
      "\u001b[1;31mFileNotFoundError\u001b[0m                         Traceback (most recent call last)",
      "\u001b[1;32m~\\AppData\\Local\\Temp\\ipykernel_14236\\569345382.py\u001b[0m in \u001b[0;36m<module>\u001b[1;34m\u001b[0m\n\u001b[0;32m      1\u001b[0m \u001b[0mdb_config\u001b[0m \u001b[1;33m=\u001b[0m \u001b[0mDatabaseConfigInfo\u001b[0m\u001b[1;33m(\u001b[0m\u001b[1;33m)\u001b[0m\u001b[1;33m\u001b[0m\u001b[1;33m\u001b[0m\u001b[0m\n\u001b[1;32m----> 2\u001b[1;33m \u001b[0mncp_mysql_cremao_dev\u001b[0m \u001b[1;33m=\u001b[0m \u001b[0mdb_config\u001b[0m\u001b[1;33m.\u001b[0m\u001b[0mget_ncp_mysql_cremao_dev\u001b[0m\u001b[1;33m(\u001b[0m\u001b[1;33m)\u001b[0m\u001b[1;33m\u001b[0m\u001b[1;33m\u001b[0m\u001b[0m\n\u001b[0m\u001b[0;32m      3\u001b[0m \u001b[1;33m\u001b[0m\u001b[0m\n\u001b[0;32m      4\u001b[0m \u001b[1;31m# NCP DB Connect\u001b[0m\u001b[1;33m\u001b[0m\u001b[1;33m\u001b[0m\u001b[0m\n\u001b[0;32m      5\u001b[0m conn = pymysql.connect(host=ncp_mysql_cremao_dev['host'],\n",
      "\u001b[1;32m~\\Documents\\public_3\\private_3\\lib\\DataBaseConfig.py\u001b[0m in \u001b[0;36mget_ncp_mysql_cremao_dev\u001b[1;34m(self)\u001b[0m\n\u001b[0;32m     34\u001b[0m         \u001b[0mrole_id\u001b[0m \u001b[1;33m=\u001b[0m \u001b[1;34m'796d67d0-44d1-8b6f-db85-054e3ec6c4c8'\u001b[0m\u001b[1;33m\u001b[0m\u001b[1;33m\u001b[0m\u001b[0m\n\u001b[0;32m     35\u001b[0m \u001b[1;33m\u001b[0m\u001b[0m\n\u001b[1;32m---> 36\u001b[1;33m         \u001b[1;32mwith\u001b[0m \u001b[0mopen\u001b[0m\u001b[1;33m(\u001b[0m\u001b[1;34m'./secret_id_ncp_mysql_cremao_dev.txt'\u001b[0m\u001b[1;33m,\u001b[0m \u001b[1;34m'r'\u001b[0m\u001b[1;33m)\u001b[0m \u001b[1;32mas\u001b[0m \u001b[0mf\u001b[0m\u001b[1;33m:\u001b[0m\u001b[1;33m\u001b[0m\u001b[1;33m\u001b[0m\u001b[0m\n\u001b[0m\u001b[0;32m     37\u001b[0m             \u001b[0msecret_id\u001b[0m \u001b[1;33m=\u001b[0m \u001b[0mf\u001b[0m\u001b[1;33m.\u001b[0m\u001b[0mread\u001b[0m\u001b[1;33m(\u001b[0m\u001b[1;33m)\u001b[0m\u001b[1;33m.\u001b[0m\u001b[0mstrip\u001b[0m\u001b[1;33m(\u001b[0m\u001b[1;33m)\u001b[0m\u001b[1;33m\u001b[0m\u001b[1;33m\u001b[0m\u001b[0m\n\u001b[0;32m     38\u001b[0m \u001b[1;33m\u001b[0m\u001b[0m\n",
      "\u001b[1;31mFileNotFoundError\u001b[0m: [Errno 2] No such file or directory: './secret_id_ncp_mysql_cremao_dev.txt'"
     ]
    }
   ],
   "source": [
    "db_config = DatabaseConfigInfo()\n",
    "ncp_mysql_cremao_dev = db_config.get_ncp_mysql_cremao_dev()\n",
    "\n",
    "# NCP DB Connect\n",
    "conn = pymysql.connect(host=ncp_mysql_cremao_dev['host'],\n",
    "                       user=ncp_mysql_cremao_dev['user'],\n",
    "                       password=ncp_mysql_cremao_dev['password'],\n",
    "                       db=ncp_mysql_cremao_dev['db'],\n",
    "                       charset=ncp_mysql_cremao_dev['charset']\n",
    "                       )\n",
    "\n",
    "conn.close()\n",
    "print(ncp_mysql_cremao_dev)"
   ]
  },
  {
   "cell_type": "code",
   "execution_count": null,
   "id": "6e579a1f",
   "metadata": {},
   "outputs": [],
   "source": []
  },
  {
   "cell_type": "code",
   "execution_count": 26,
   "id": "ea8de65e",
   "metadata": {
    "ExecuteTime": {
     "end_time": "2023-06-13T08:47:32.011060Z",
     "start_time": "2023-06-13T08:47:31.936038Z"
    }
   },
   "outputs": [
    {
     "data": {
      "text/plain": [
       "{'request_id': 'e3c6eba8-5b27-b966-4797-8671a6426655',\n",
       " 'lease_id': '',\n",
       " 'renewable': False,\n",
       " 'lease_duration': 0,\n",
       " 'data': {'secret_id': 'c31f3a7a-92b6-3559-54a2-2df894bce356',\n",
       "  'secret_id_accessor': '958a3f72-8552-507e-1608-47501c1072e8',\n",
       "  'secret_id_num_uses': 0,\n",
       "  'secret_id_ttl': 0},\n",
       " 'wrap_info': None,\n",
       " 'warnings': None,\n",
       " 'auth': None}"
      ]
     },
     "execution_count": 26,
     "metadata": {},
     "output_type": "execute_result"
    }
   ],
   "source": [
    "import os\n",
    "import hvac\n",
    "import warnings\n",
    "warnings.filterwarnings(\"ignore\", category=DeprecationWarning)\n",
    "\n",
    "client = hvac.Client(url='http://221.139.50.49:9092', token='hvs.s8JdrC2cAkUd8GQ6GFHNQ8qz')\n",
    "\n",
    "secret_id = client.auth.approle.generate_secret_id(role_name='ncp_mysql_cremao_dev_read')\n",
    "secret_id"
   ]
  },
  {
   "cell_type": "code",
   "execution_count": null,
   "id": "e7347c2c",
   "metadata": {},
   "outputs": [],
   "source": []
  },
  {
   "cell_type": "code",
   "execution_count": null,
   "id": "71440f5a",
   "metadata": {},
   "outputs": [],
   "source": []
  }
 ],
 "metadata": {
  "kernelspec": {
   "display_name": "Python 3 (ipykernel)",
   "language": "python",
   "name": "python3"
  },
  "language_info": {
   "codemirror_mode": {
    "name": "ipython",
    "version": 3
   },
   "file_extension": ".py",
   "mimetype": "text/x-python",
   "name": "python",
   "nbconvert_exporter": "python",
   "pygments_lexer": "ipython3",
   "version": "3.9.13"
  }
 },
 "nbformat": 4,
 "nbformat_minor": 5
}
