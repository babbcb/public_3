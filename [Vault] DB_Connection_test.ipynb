{
 "cells": [
  {
   "cell_type": "code",
   "execution_count": 5,
   "id": "eff210fd",
   "metadata": {
    "ExecuteTime": {
     "end_time": "2023-06-14T05:19:07.781234Z",
     "start_time": "2023-06-14T05:19:07.764200Z"
    },
    "pycharm": {
     "is_executing": true
    }
   },
   "outputs": [],
   "source": [
    "import pymysql\n",
    "import psycopg2\n",
    "import hvac\n",
    "\n",
    "# DataBaseConfig 불러오기\n",
    "import sys\n",
    "import os\n",
    "sys.path.append(os.path.join(os.getcwd(), '..'))\n",
    "from private_3.lib.DataBaseConfig import DatabaseConfigInfo"
   ]
  },
  {
   "cell_type": "code",
   "execution_count": 2,
   "id": "c6ab65d7",
   "metadata": {
    "ExecuteTime": {
     "end_time": "2023-06-14T05:18:07.743709Z",
     "start_time": "2023-06-14T05:18:07.729700Z"
    }
   },
   "outputs": [
    {
     "data": {
      "text/plain": [
       "'C:\\\\Users\\\\USER\\\\Documents\\\\public_3'"
      ]
     },
     "execution_count": 2,
     "metadata": {},
     "output_type": "execute_result"
    }
   ],
   "source": [
    "os.getcwd()"
   ]
  },
  {
   "cell_type": "markdown",
   "id": "2576d470",
   "metadata": {},
   "source": [
    "# 2. ncp_mysql_cremao_dev"
   ]
  },
  {
   "cell_type": "code",
   "execution_count": 44,
   "id": "a9c4f6ec",
   "metadata": {
    "ExecuteTime": {
     "end_time": "2023-06-14T05:42:19.933480Z",
     "start_time": "2023-06-14T05:42:19.816807Z"
    },
    "scrolled": true
   },
   "outputs": [
    {
     "name": "stdout",
     "output_type": "stream",
     "text": [
      "dir_path :  C:\\Users\\USER\\Documents\\public_3\\private_3\\lib\n",
      "file_path :  C:\\Users\\USER\\Documents\\public_3\\private_3\\lib\\secret_id_ncp_mysql_cremao_dev.txt\n",
      "secret_id :  f3549c4c-dcc5-9985-2381-bca00073bb08\n",
      "Vault generated_token -  hvs.CAESIN9WA3ac1mWJNCK_Hu8r9NpT0tfYQ81zfUMHs4eXPk6FGh4KHGh2cy5jd2ZnYktRdmlLZFhvVUlGZHlCd3U2T3Q\n",
      "{'charset': 'utf8', 'db': 'cremao', 'host': 'db-fqtk1.pub-cdb.ntruss.com', 'password': 'cremao1234!!', 'user': 'cremao'}\n"
     ]
    }
   ],
   "source": [
    "db_config = DatabaseConfigInfo()\n",
    "ncp_mysql_cremao_dev = db_config.get_ncp_mysql_cremao_dev()\n",
    "\n",
    "# NCP DB Connect\n",
    "conn = pymysql.connect(host=ncp_mysql_cremao_dev['host'],\n",
    "                       user=ncp_mysql_cremao_dev['user'],\n",
    "                       password=ncp_mysql_cremao_dev['password'],\n",
    "                       db=ncp_mysql_cremao_dev['db'],\n",
    "                       charset=ncp_mysql_cremao_dev['charset']\n",
    "                       )\n",
    "\n",
    "conn.close()\n",
    "print(ncp_mysql_cremao_dev)"
   ]
  },
  {
   "cell_type": "code",
   "execution_count": null,
   "id": "6e579a1f",
   "metadata": {},
   "outputs": [],
   "source": []
  },
  {
   "cell_type": "code",
   "execution_count": 51,
   "id": "71440f5a",
   "metadata": {
    "ExecuteTime": {
     "end_time": "2023-06-14T05:45:59.424512Z",
     "start_time": "2023-06-14T05:45:59.275570Z"
    }
   },
   "outputs": [
    {
     "name": "stdout",
     "output_type": "stream",
     "text": [
      "{'request_id': '5f9bc0e8-e9ac-c9e0-2851-b8ae01e3f48a', 'lease_id': '', 'renewable': False, 'lease_duration': 0, 'data': {'secret_id': '4e8a5817-d9ad-1d98-0e38-4284919c5974', 'secret_id_accessor': '49868d98-bd07-3933-78dd-67a47a34a77b', 'secret_id_num_uses': 0, 'secret_id_ttl': 1814400}, 'wrap_info': None, 'warnings': None, 'auth': None}\n"
     ]
    }
   ],
   "source": [
    "# Create a new client with the given token\n",
    "#client = hvac.Client(url='http://221.139.50.49:9092', token='hvs.CAESIF8Gx2Sr5pYP7RQC3kYJLm88enHXwGzKkaFHHdrw96ulGh4KHGh2cy5lU3RwRlptdjBnWjU0UVFOYnBFQVNPOEs')\n",
    "# 사용자 이름과 비밀번호\n",
    "username = 'airflow'\n",
    "password = 'xidpAjmFd1cSWLJ'\n",
    "\n",
    "# Client 객체 생성\n",
    "client = hvac.Client(url='http://221.139.50.49:9092')\n",
    "\n",
    "# 사용자 이름과 비밀번호로 로그인\n",
    "client.auth.userpass.login(username=username, password=password)\n",
    "\n",
    "# Generate a new secret id for the role\n",
    "secret_id = client.auth.approle.generate_secret_id(role_name='ncp_mysql_cremao_dev_read')\n",
    "\n",
    "# Print the secret id\n",
    "print(secret_id)\n"
   ]
  },
  {
   "cell_type": "code",
   "execution_count": 52,
   "id": "091d42f8",
   "metadata": {
    "ExecuteTime": {
     "end_time": "2023-06-14T05:46:01.777479Z",
     "start_time": "2023-06-14T05:46:01.771840Z"
    }
   },
   "outputs": [
    {
     "name": "stdout",
     "output_type": "stream",
     "text": [
      "4e8a5817-d9ad-1d98-0e38-4284919c5974\n",
      "49868d98-bd07-3933-78dd-67a47a34a77b\n"
     ]
    }
   ],
   "source": [
    "new_secret_id = secret_id['data']['secret_id']\n",
    "print(new_secret_id)\n",
    "\n",
    "new_secret_id_accessor = secret_id['data']['secret_id_accessor']\n",
    "print(new_secret_id_accessor)"
   ]
  },
  {
   "cell_type": "code",
   "execution_count": 53,
   "id": "a6ce521b",
   "metadata": {
    "ExecuteTime": {
     "end_time": "2023-06-14T05:46:07.084326Z",
     "start_time": "2023-06-14T05:46:07.067375Z"
    }
   },
   "outputs": [],
   "source": [
    "with open('./private_3/lib/secret_id_ncp_mysql_cremao_dev.txt', 'w') as f:\n",
    "    f.write(new_secret_id)\n",
    "    \n",
    "with open('./private_3/lib/secret_id_accessor_ncp_mysql_cremao_dev.txt', 'w') as f:\n",
    "    f.write(new_secret_id_accessor)"
   ]
  },
  {
   "cell_type": "code",
   "execution_count": 54,
   "id": "aa7d08e1",
   "metadata": {
    "ExecuteTime": {
     "end_time": "2023-06-14T05:46:07.824270Z",
     "start_time": "2023-06-14T05:46:07.789635Z"
    }
   },
   "outputs": [
    {
     "name": "stdout",
     "output_type": "stream",
     "text": [
      "Vault generated_token -  hvs.CAESIKawDAEBfsK-lyQYPGk1kDvL7lag5MFXg6L-bj5k-QM6Gh4KHGh2cy5VcTNlVzZHWGtCT3JuVm5LMVA4ZkFHU0w\n"
     ]
    }
   ],
   "source": [
    "client = hvac.Client(url='http://221.139.50.49:9092')\n",
    "client.auth.approle.login(role_id='796d67d0-44d1-8b6f-db85-054e3ec6c4c8',\n",
    "                          secret_id='0f374ed8-b163-2a5e-9ac4-a49311c45b37')\n",
    "\n",
    "if client.is_authenticated():\n",
    "    generated_token = client.token\n",
    "    print('Vault generated_token - ', generated_token)\n",
    "else:\n",
    "    print(\"Vault에 접속하지 못했습니다. Role-ID와 Secret-ID가 유효한지 확인해주세요.\")\n"
   ]
  },
  {
   "cell_type": "code",
   "execution_count": 55,
   "id": "4c40f096",
   "metadata": {
    "ExecuteTime": {
     "end_time": "2023-06-14T05:46:17.806468Z",
     "start_time": "2023-06-14T05:46:17.780217Z"
    }
   },
   "outputs": [
    {
     "name": "stdout",
     "output_type": "stream",
     "text": [
      "--------------------------------------------------\n",
      "b''\n",
      "<Response [204]>\n"
     ]
    }
   ],
   "source": [
    "import requests\n",
    "\n",
    "headers = {\n",
    "    'X-Vault-Token': 'hvs.CAESIF8Gx2Sr5pYP7RQC3kYJLm88enHXwGzKkaFHHdrw96ulGh4KHGh2cy5lU3RwRlptdjBnWjU0UVFOYnBFQVNPOEs',\n",
    "}\n",
    "\n",
    "with open('./private_3/lib/secret_id_accessor_ncp_mysql_cremao_dev.txt', 'r') as f:\n",
    "    secret_id_accessor = f.read().strip()\n",
    "\n",
    "data = {\n",
    "  'secret_id_accessor': secret_id_accessor\n",
    "}\n",
    "\n",
    "response = requests.post('http://221.139.50.49:9092/v1/auth/approle/role/ncp_mysql_cremao_dev_read/secret-id-accessor/destroy', headers=headers, json=data)\n",
    "\n",
    "print('-'*50)\n",
    "print(response.content)\n",
    "print(response)"
   ]
  },
  {
   "cell_type": "code",
   "execution_count": 56,
   "id": "e713a477",
   "metadata": {
    "ExecuteTime": {
     "end_time": "2023-06-14T05:46:18.848249Z",
     "start_time": "2023-06-14T05:46:18.790713Z"
    }
   },
   "outputs": [
    {
     "ename": "InternalServerError",
     "evalue": "invalid secret id, on post http://221.139.50.49:9092/v1/auth/approle/login",
     "output_type": "error",
     "traceback": [
      "\u001b[1;31m---------------------------------------------------------------------------\u001b[0m",
      "\u001b[1;31mInternalServerError\u001b[0m                       Traceback (most recent call last)",
      "\u001b[1;32m~\\AppData\\Local\\Temp\\ipykernel_1540\\3634194063.py\u001b[0m in \u001b[0;36m<module>\u001b[1;34m\u001b[0m\n\u001b[0;32m      3\u001b[0m \u001b[1;33m\u001b[0m\u001b[0m\n\u001b[0;32m      4\u001b[0m \u001b[0mclient\u001b[0m \u001b[1;33m=\u001b[0m \u001b[0mhvac\u001b[0m\u001b[1;33m.\u001b[0m\u001b[0mClient\u001b[0m\u001b[1;33m(\u001b[0m\u001b[0murl\u001b[0m\u001b[1;33m=\u001b[0m\u001b[1;34m'http://221.139.50.49:9092'\u001b[0m\u001b[1;33m)\u001b[0m\u001b[1;33m\u001b[0m\u001b[1;33m\u001b[0m\u001b[0m\n\u001b[1;32m----> 5\u001b[1;33m client.auth.approle.login(role_id='796d67d0-44d1-8b6f-db85-054e3ec6c4c8',\n\u001b[0m\u001b[0;32m      6\u001b[0m                           secret_id=secret_id)\n\u001b[0;32m      7\u001b[0m \u001b[1;33m\u001b[0m\u001b[0m\n",
      "\u001b[1;32m~\\anaconda3\\lib\\site-packages\\hvac\\api\\auth_methods\\approle.py\u001b[0m in \u001b[0;36mlogin\u001b[1;34m(self, role_id, secret_id, use_token, mount_point)\u001b[0m\n\u001b[0;32m    504\u001b[0m             \u001b[1;34m\"/v1/auth/{mount_point}/login\"\u001b[0m\u001b[1;33m,\u001b[0m \u001b[0mmount_point\u001b[0m\u001b[1;33m=\u001b[0m\u001b[0mmount_point\u001b[0m\u001b[1;33m\u001b[0m\u001b[1;33m\u001b[0m\u001b[0m\n\u001b[0;32m    505\u001b[0m         )\n\u001b[1;32m--> 506\u001b[1;33m         return self._adapter.login(\n\u001b[0m\u001b[0;32m    507\u001b[0m             \u001b[0murl\u001b[0m\u001b[1;33m=\u001b[0m\u001b[0mapi_path\u001b[0m\u001b[1;33m,\u001b[0m\u001b[1;33m\u001b[0m\u001b[1;33m\u001b[0m\u001b[0m\n\u001b[0;32m    508\u001b[0m             \u001b[0muse_token\u001b[0m\u001b[1;33m=\u001b[0m\u001b[0muse_token\u001b[0m\u001b[1;33m,\u001b[0m\u001b[1;33m\u001b[0m\u001b[1;33m\u001b[0m\u001b[0m\n",
      "\u001b[1;32m~\\anaconda3\\lib\\site-packages\\hvac\\adapters.py\u001b[0m in \u001b[0;36mlogin\u001b[1;34m(self, url, use_token, **kwargs)\u001b[0m\n\u001b[0;32m    192\u001b[0m         \u001b[1;33m:\u001b[0m\u001b[0mrtype\u001b[0m\u001b[1;33m:\u001b[0m \u001b[0mrequests\u001b[0m\u001b[1;33m.\u001b[0m\u001b[0mResponse\u001b[0m\u001b[1;33m\u001b[0m\u001b[1;33m\u001b[0m\u001b[0m\n\u001b[0;32m    193\u001b[0m         \"\"\"\n\u001b[1;32m--> 194\u001b[1;33m         \u001b[0mresponse\u001b[0m \u001b[1;33m=\u001b[0m \u001b[0mself\u001b[0m\u001b[1;33m.\u001b[0m\u001b[0mpost\u001b[0m\u001b[1;33m(\u001b[0m\u001b[0murl\u001b[0m\u001b[1;33m,\u001b[0m \u001b[1;33m**\u001b[0m\u001b[0mkwargs\u001b[0m\u001b[1;33m)\u001b[0m\u001b[1;33m\u001b[0m\u001b[1;33m\u001b[0m\u001b[0m\n\u001b[0m\u001b[0;32m    195\u001b[0m \u001b[1;33m\u001b[0m\u001b[0m\n\u001b[0;32m    196\u001b[0m         \u001b[1;32mif\u001b[0m \u001b[0muse_token\u001b[0m\u001b[1;33m:\u001b[0m\u001b[1;33m\u001b[0m\u001b[1;33m\u001b[0m\u001b[0m\n",
      "\u001b[1;32m~\\anaconda3\\lib\\site-packages\\hvac\\adapters.py\u001b[0m in \u001b[0;36mpost\u001b[1;34m(self, url, **kwargs)\u001b[0m\n\u001b[0;32m    121\u001b[0m         \u001b[1;33m:\u001b[0m\u001b[0mrtype\u001b[0m\u001b[1;33m:\u001b[0m \u001b[0mrequests\u001b[0m\u001b[1;33m.\u001b[0m\u001b[0mResponse\u001b[0m\u001b[1;33m\u001b[0m\u001b[1;33m\u001b[0m\u001b[0m\n\u001b[0;32m    122\u001b[0m         \"\"\"\n\u001b[1;32m--> 123\u001b[1;33m         \u001b[1;32mreturn\u001b[0m \u001b[0mself\u001b[0m\u001b[1;33m.\u001b[0m\u001b[0mrequest\u001b[0m\u001b[1;33m(\u001b[0m\u001b[1;34m\"post\"\u001b[0m\u001b[1;33m,\u001b[0m \u001b[0murl\u001b[0m\u001b[1;33m,\u001b[0m \u001b[1;33m**\u001b[0m\u001b[0mkwargs\u001b[0m\u001b[1;33m)\u001b[0m\u001b[1;33m\u001b[0m\u001b[1;33m\u001b[0m\u001b[0m\n\u001b[0m\u001b[0;32m    124\u001b[0m \u001b[1;33m\u001b[0m\u001b[0m\n\u001b[0;32m    125\u001b[0m     \u001b[1;32mdef\u001b[0m \u001b[0mput\u001b[0m\u001b[1;33m(\u001b[0m\u001b[0mself\u001b[0m\u001b[1;33m,\u001b[0m \u001b[0murl\u001b[0m\u001b[1;33m,\u001b[0m \u001b[1;33m**\u001b[0m\u001b[0mkwargs\u001b[0m\u001b[1;33m)\u001b[0m\u001b[1;33m:\u001b[0m\u001b[1;33m\u001b[0m\u001b[1;33m\u001b[0m\u001b[0m\n",
      "\u001b[1;32m~\\anaconda3\\lib\\site-packages\\hvac\\adapters.py\u001b[0m in \u001b[0;36mrequest\u001b[1;34m(self, *args, **kwargs)\u001b[0m\n\u001b[0;32m    370\u001b[0m         \u001b[1;33m:\u001b[0m\u001b[0mrtype\u001b[0m\u001b[1;33m:\u001b[0m \u001b[0mdict\u001b[0m \u001b[1;33m|\u001b[0m \u001b[0mrequests\u001b[0m\u001b[1;33m.\u001b[0m\u001b[0mResponse\u001b[0m\u001b[1;33m\u001b[0m\u001b[1;33m\u001b[0m\u001b[0m\n\u001b[0;32m    371\u001b[0m         \"\"\"\n\u001b[1;32m--> 372\u001b[1;33m         \u001b[0mresponse\u001b[0m \u001b[1;33m=\u001b[0m \u001b[0msuper\u001b[0m\u001b[1;33m(\u001b[0m\u001b[1;33m)\u001b[0m\u001b[1;33m.\u001b[0m\u001b[0mrequest\u001b[0m\u001b[1;33m(\u001b[0m\u001b[1;33m*\u001b[0m\u001b[0margs\u001b[0m\u001b[1;33m,\u001b[0m \u001b[1;33m**\u001b[0m\u001b[0mkwargs\u001b[0m\u001b[1;33m)\u001b[0m\u001b[1;33m\u001b[0m\u001b[1;33m\u001b[0m\u001b[0m\n\u001b[0m\u001b[0;32m    373\u001b[0m         \u001b[1;32mif\u001b[0m \u001b[0mresponse\u001b[0m\u001b[1;33m.\u001b[0m\u001b[0mstatus_code\u001b[0m \u001b[1;33m==\u001b[0m \u001b[1;36m200\u001b[0m\u001b[1;33m:\u001b[0m\u001b[1;33m\u001b[0m\u001b[1;33m\u001b[0m\u001b[0m\n\u001b[0;32m    374\u001b[0m             \u001b[1;32mtry\u001b[0m\u001b[1;33m:\u001b[0m\u001b[1;33m\u001b[0m\u001b[1;33m\u001b[0m\u001b[0m\n",
      "\u001b[1;32m~\\anaconda3\\lib\\site-packages\\hvac\\adapters.py\u001b[0m in \u001b[0;36mrequest\u001b[1;34m(self, method, url, headers, raise_exception, **kwargs)\u001b[0m\n\u001b[0;32m    338\u001b[0m \u001b[1;33m\u001b[0m\u001b[0m\n\u001b[0;32m    339\u001b[0m         \u001b[1;32mif\u001b[0m \u001b[1;32mnot\u001b[0m \u001b[0mresponse\u001b[0m\u001b[1;33m.\u001b[0m\u001b[0mok\u001b[0m \u001b[1;32mand\u001b[0m \u001b[1;33m(\u001b[0m\u001b[0mraise_exception\u001b[0m \u001b[1;32mand\u001b[0m \u001b[1;32mnot\u001b[0m \u001b[0mself\u001b[0m\u001b[1;33m.\u001b[0m\u001b[0mignore_exceptions\u001b[0m\u001b[1;33m)\u001b[0m\u001b[1;33m:\u001b[0m\u001b[1;33m\u001b[0m\u001b[1;33m\u001b[0m\u001b[0m\n\u001b[1;32m--> 340\u001b[1;33m             \u001b[0mself\u001b[0m\u001b[1;33m.\u001b[0m\u001b[0m_raise_for_error\u001b[0m\u001b[1;33m(\u001b[0m\u001b[0mmethod\u001b[0m\u001b[1;33m,\u001b[0m \u001b[0murl\u001b[0m\u001b[1;33m,\u001b[0m \u001b[0mresponse\u001b[0m\u001b[1;33m)\u001b[0m\u001b[1;33m\u001b[0m\u001b[1;33m\u001b[0m\u001b[0m\n\u001b[0m\u001b[0;32m    341\u001b[0m \u001b[1;33m\u001b[0m\u001b[0m\n\u001b[0;32m    342\u001b[0m         \u001b[1;32mreturn\u001b[0m \u001b[0mresponse\u001b[0m\u001b[1;33m\u001b[0m\u001b[1;33m\u001b[0m\u001b[0m\n",
      "\u001b[1;32m~\\anaconda3\\lib\\site-packages\\hvac\\adapters.py\u001b[0m in \u001b[0;36m_raise_for_error\u001b[1;34m(self, method, url, response)\u001b[0m\n\u001b[0;32m    256\u001b[0m             \u001b[0mmsg\u001b[0m \u001b[1;33m=\u001b[0m \u001b[0mtext\u001b[0m\u001b[1;33m\u001b[0m\u001b[1;33m\u001b[0m\u001b[0m\n\u001b[0;32m    257\u001b[0m \u001b[1;33m\u001b[0m\u001b[0m\n\u001b[1;32m--> 258\u001b[1;33m         utils.raise_for_error(\n\u001b[0m\u001b[0;32m    259\u001b[0m             \u001b[0mmethod\u001b[0m\u001b[1;33m,\u001b[0m\u001b[1;33m\u001b[0m\u001b[1;33m\u001b[0m\u001b[0m\n\u001b[0;32m    260\u001b[0m             \u001b[0murl\u001b[0m\u001b[1;33m,\u001b[0m\u001b[1;33m\u001b[0m\u001b[1;33m\u001b[0m\u001b[0m\n",
      "\u001b[1;32m~\\anaconda3\\lib\\site-packages\\hvac\\utils.py\u001b[0m in \u001b[0;36mraise_for_error\u001b[1;34m(method, url, status_code, message, errors, text, json)\u001b[0m\n\u001b[0;32m     39\u001b[0m \u001b[1;33m\u001b[0m\u001b[0m\n\u001b[0;32m     40\u001b[0m     \"\"\"\n\u001b[1;32m---> 41\u001b[1;33m     raise exceptions.VaultError.from_status(\n\u001b[0m\u001b[0;32m     42\u001b[0m         \u001b[0mstatus_code\u001b[0m\u001b[1;33m,\u001b[0m\u001b[1;33m\u001b[0m\u001b[1;33m\u001b[0m\u001b[0m\n\u001b[0;32m     43\u001b[0m         \u001b[0mmessage\u001b[0m\u001b[1;33m,\u001b[0m\u001b[1;33m\u001b[0m\u001b[1;33m\u001b[0m\u001b[0m\n",
      "\u001b[1;31mInternalServerError\u001b[0m: invalid secret id, on post http://221.139.50.49:9092/v1/auth/approle/login"
     ]
    }
   ],
   "source": [
    "with open('./private_3/lib/secret_id_ncp_mysql_cremao_dev.txt', 'r') as f:\n",
    "    secret_id = f.read().strip()\n",
    "\n",
    "client = hvac.Client(url='http://221.139.50.49:9092')\n",
    "client.auth.approle.login(role_id='796d67d0-44d1-8b6f-db85-054e3ec6c4c8',\n",
    "                          secret_id=secret_id)\n",
    "\n",
    "if client.is_authenticated():\n",
    "    generated_token = client.token\n",
    "    print('Vault generated_token - ', generated_token)\n",
    "else:\n",
    "    print(\"Vault에 접속하지 못했습니다. Role-ID와 Secret-ID가 유효한지 확인해주세요.\")\n"
   ]
  },
  {
   "cell_type": "code",
   "execution_count": 48,
   "id": "95411318",
   "metadata": {
    "ExecuteTime": {
     "end_time": "2023-06-14T05:45:41.204625Z",
     "start_time": "2023-06-14T05:45:41.195760Z"
    }
   },
   "outputs": [],
   "source": [
    "with open('./private_3/lib/secret_id_accessor_ncp_mysql_cremao_dev.txt', 'r') as file:\n",
    "     data = file.read()"
   ]
  },
  {
   "cell_type": "code",
   "execution_count": 49,
   "id": "6b0b9393",
   "metadata": {
    "ExecuteTime": {
     "end_time": "2023-06-14T05:45:41.416245Z",
     "start_time": "2023-06-14T05:45:41.408227Z"
    }
   },
   "outputs": [
    {
     "data": {
      "text/plain": [
       "'f4c94dec-e0d4-e198-7350-9dc5655b060b'"
      ]
     },
     "execution_count": 49,
     "metadata": {},
     "output_type": "execute_result"
    }
   ],
   "source": [
    "data"
   ]
  },
  {
   "cell_type": "code",
   "execution_count": null,
   "id": "f5847bfd",
   "metadata": {},
   "outputs": [],
   "source": []
  }
 ],
 "metadata": {
  "kernelspec": {
   "display_name": "Python 3 (ipykernel)",
   "language": "python",
   "name": "python3"
  },
  "language_info": {
   "codemirror_mode": {
    "name": "ipython",
    "version": 3
   },
   "file_extension": ".py",
   "mimetype": "text/x-python",
   "name": "python",
   "nbconvert_exporter": "python",
   "pygments_lexer": "ipython3",
   "version": "3.9.13"
  }
 },
 "nbformat": 4,
 "nbformat_minor": 5
}
